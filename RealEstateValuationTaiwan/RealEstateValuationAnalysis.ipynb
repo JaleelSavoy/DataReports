{
 "cells": [
  {
   "cell_type": "markdown",
   "metadata": {},
   "source": [
    "# Predicting Real Estate valuation\n",
    "#### Author: Jaleel Walter Henry Savoy\n",
    "\n",
    "\n",
    "## Data\n",
    "The data set being analyzed was sourced from the University of California - Irvine, Machine Learning Repository. The data set is comprised of 414 observations of historical real estate market data for New Taipei City in Taiwan. The target feature is the house price per unit area (10000 New Taiwan Dollars per Ping, where a Ping is about 3.3 meters squared). The predictor features are: transaction date, house age, distance to the nearest public transit station, number of convenience stores in the area, latitude, and longitude.\n",
    "\n",
    "**Relevant Paper:**\n",
    "\n",
    "Yeh, I. C., & Hsu, T. K. (2018). Building real estate valuation models with comparative approach through case-based reasoning. Applied Soft Computing, 65, 260-271.\n",
    "\n",
    "Data Link Available at: [Web Link](https://archive.ics.uci.edu/ml/machine-learning-databases/00477/)\n",
    "\n",
    "## Problem\n",
    "Define and fit a machine learning model to predict house price per unit area (10000 Taiwan Dollars per Ping), using a subset of the remaining features in the data set, that performs wells on new observations.\n",
    "\n",
    "The model will be able to aid in decision-making by using the comparable qualities (year of sale, age of house, distance to public transit, number of convenience stores in the area, and location through latitude and longitude) to predict the market selling price per unit area of a home.\n",
    "\n",
    "## Benefits\n",
    "The capability to accurately predict the market selling price per unit area of a home using comparable qualities is useful to investors and real-estate professionals. Real-estate valuation is concerned with the cost, price, and intrinsic value of the property; the cost or price of a property does not necessarily have to equal the value of a property, and often the value is not equal to the price or cost."
   ]
  },
  {
   "cell_type": "markdown",
   "metadata": {},
   "source": [
    "## Import Relevant Packages"
   ]
  },
  {
   "cell_type": "code",
   "execution_count": 549,
   "metadata": {},
   "outputs": [],
   "source": [
    "library(caret)\n",
    "library(car)\n",
    "library(MASS)\n",
    "library(corrplot)\n",
    "library(mgcv)"
   ]
  },
  {
   "cell_type": "markdown",
   "metadata": {},
   "source": [
    "## Load the Data"
   ]
  },
  {
   "cell_type": "code",
   "execution_count": 550,
   "metadata": {},
   "outputs": [],
   "source": [
    "data <- (data.frame(read.csv('Real estate valuation data set.csv')))"
   ]
  },
  {
   "cell_type": "markdown",
   "metadata": {},
   "source": [
    "## Split Data into Training and Testing sets"
   ]
  },
  {
   "cell_type": "code",
   "execution_count": 551,
   "metadata": {},
   "outputs": [],
   "source": [
    "## 66-34 split of the sample data\n",
    "sample_size <- floor(0.66 * nrow(data))\n",
    "\n",
    "## set the seed to make your partition reproducible\n",
    "set.seed(123)\n",
    "train_ind <- sample(seq_len(nrow(data)), size = sample_size)\n",
    "\n",
    "train <- data[train_ind, ]\n",
    "test <- data[-train_ind, ]"
   ]
  },
  {
   "cell_type": "markdown",
   "metadata": {},
   "source": [
    "## Preliminary Exploration of the Training Data"
   ]
  },
  {
   "cell_type": "code",
   "execution_count": 552,
   "metadata": {},
   "outputs": [
    {
     "data": {
      "text/html": [
       "<ol class=list-inline>\n",
       "\t<li>117.5</li>\n",
       "\t<li>78</li>\n",
       "</ol>\n"
      ],
      "text/latex": [
       "\\begin{enumerate*}\n",
       "\\item 117.5\n",
       "\\item 78\n",
       "\\end{enumerate*}\n"
      ],
      "text/markdown": [
       "1. 117.5\n",
       "2. 78\n",
       "\n",
       "\n"
      ],
      "text/plain": [
       "[1] 117.5  78.0"
      ]
     },
     "metadata": {},
     "output_type": "display_data"
    },
    {
     "data": {
      "text/html": [
       "<strong>271:</strong> 139"
      ],
      "text/latex": [
       "\\textbf{271:} 139"
      ],
      "text/markdown": [
       "**271:** 139"
      ],
      "text/plain": [
       "271 \n",
       "139 "
      ]
     },
     "metadata": {},
     "output_type": "display_data"
    },
    {
     "data": {
      "image/png": "[encoded data removed]",
      "text/plain": [
       "Plot with title \"Cook's Distances\""
      ]
     },
     "metadata": {},
     "output_type": "display_data"
    }
   ],
   "source": [
    "(outlier_values <- boxplot.stats(train$Y.house.price.of.unit.area)$out)\n",
    "outlierMod <- lm(Y.house.price.of.unit.area ~ ., data=train)\n",
    "cooksd <- cooks.distance(outlierMod)\n",
    "plot(cooksd, main=\"Cook's Distances\")\n",
    "abline(h = 4*mean(cooksd, na.rm=T))\n",
    "abline(h = quantile(cooksd, 0.99), col=\"red\")\n",
    "which(cooksd > 0.15)"
   ]
  },
  {
   "cell_type": "code",
   "execution_count": 553,
   "metadata": {
    "scrolled": false
   },
   "outputs": [
    {
     "data": {
      "text/plain": [
       "     ï..No       X1.transaction.date  X2.house.age  \n",
       " Min.   :  1.0   Min.   :2013        Min.   : 0.00  \n",
       " 1st Qu.:120.0   1st Qu.:2013        1st Qu.: 9.00  \n",
       " Median :219.0   Median :2013        Median :16.10  \n",
       " Mean   :216.5   Mean   :2013        Mean   :17.71  \n",
       " 3rd Qu.:314.0   3rd Qu.:2013        3rd Qu.:28.40  \n",
       " Max.   :414.0   Max.   :2014        Max.   :41.30  \n",
       " X3.distance.to.the.nearest.MRT.station X4.number.of.convenience.stores\n",
       " Min.   :  23.38                        Min.   : 0.000                 \n",
       " 1st Qu.: 289.32                        1st Qu.: 1.000                 \n",
       " Median : 490.35                        Median : 4.000                 \n",
       " Mean   :1020.44                        Mean   : 4.044                 \n",
       " 3rd Qu.:1406.43                        3rd Qu.: 6.000                 \n",
       " Max.   :6488.02                        Max.   :10.000                 \n",
       "  X5.latitude     X6.longitude   Y.house.price.of.unit.area\n",
       " Min.   :24.93   Min.   :121.5   Min.   :  7.60            \n",
       " 1st Qu.:24.96   1st Qu.:121.5   1st Qu.: 28.50            \n",
       " Median :24.97   Median :121.5   Median : 39.00            \n",
       " Mean   :24.97   Mean   :121.5   Mean   : 38.27            \n",
       " 3rd Qu.:24.98   3rd Qu.:121.5   3rd Qu.: 46.10            \n",
       " Max.   :25.01   Max.   :121.6   Max.   :117.50            "
      ]
     },
     "metadata": {},
     "output_type": "display_data"
    },
    {
     "data": {
      "image/png": "[encoded data removed]",
      "text/plain": [
       "plot without title"
      ]
     },
     "metadata": {},
     "output_type": "display_data"
    },
    {
     "data": {
      "image/png": "[encoded data removed]",
      "text/plain": [
       "Plot with title \"House Price by Unit Area\""
      ]
     },
     "metadata": {},
     "output_type": "display_data"
    },
    {
     "data": {
      "image/png": "[encoded data removed]",
      "text/plain": [
       "Plot with title \"Distance to nearest Subway Station\""
      ]
     },
     "metadata": {},
     "output_type": "display_data"
    }
   ],
   "source": [
    "par(mfrow=c(1,3))\n",
    "options(repr.plot.width=8, repr.plot.height=3)\n",
    "\n",
    "summary(train)\n",
    "\n",
    "plot(x=train$X2.house.age, y=train$Y.house.price.of.unit.area)\n",
    "plot(x=train$X4.number.of.convenience.stores, y=train$Y.house.price.of.unit.area)\n",
    "plot(x=train$X3.distance.to.the.nearest.MRT.station, y=train$Y.house.price.of.unit.area)\n",
    "plot(x=train$X6.longitude, y=train$Y.house.price.of.unit.area)\n",
    "plot(x=train$X5.latitude, y=train$Y.house.price.of.unit.area)\n",
    "\n",
    "hist(train$Y.house.price.of.unit.area, main=\"House Price by Unit Area\")\n",
    "hist(train$X2.house.age, main=\"House Age\")\n",
    "hist(train$X4.number.of.convenience.stores, main=\"Convenience Stores Nearby\")\n",
    "hist(train$X3.distance.to.the.nearest.MRT.station, main=\"Distance to nearest Subway Station\")"
   ]
  },
  {
   "cell_type": "code",
   "execution_count": 554,
   "metadata": {},
   "outputs": [],
   "source": [
    "colnames(train) <- c(\"Index\", \"Trans.Date\", \"House.Age\", \"Distance.MRT.Station\",\n",
    "                     \"Num.Convenience.Stores\", \"Lat\", \"Long\", \"House.Price.Unit.Area\")\n",
    "colnames(test) <- c(\"Index\", \"Trans.Date\", \"House.Age\", \"Distance.MRT.Station\",\n",
    "                     \"Num.Convenience.Stores\", \"Lat\", \"Long\", \"House.Price.Unit.Area\")"
   ]
  },
  {
   "cell_type": "code",
   "execution_count": 555,
   "metadata": {},
   "outputs": [
    {
     "data": {
      "text/html": [
       "<table>\n",
       "<thead><tr><th></th><th scope=col>Index</th><th scope=col>Trans.Date</th><th scope=col>House.Age</th><th scope=col>Distance.MRT.Station</th><th scope=col>Num.Convenience.Stores</th><th scope=col>Lat</th><th scope=col>Long</th><th scope=col>House.Price.Unit.Area</th></tr></thead>\n",
       "<tbody>\n",
       "\t<tr><th scope=row>Index</th><td> 1.000000000 </td><td>-0.052368161 </td><td>-0.0641866574</td><td> 0.03565465  </td><td>-0.008363125 </td><td>-0.003635433 </td><td>-0.0687202568</td><td>-0.007641409 </td></tr>\n",
       "\t<tr><th scope=row>Trans.Date</th><td>-0.052368161 </td><td> 1.000000000 </td><td>-0.0629781791</td><td> 0.04480016  </td><td>-0.003808806 </td><td> 0.029503859 </td><td>-0.0152197925</td><td> 0.100632882 </td></tr>\n",
       "\t<tr><th scope=row>House.Age</th><td>-0.064186657 </td><td>-0.062978179 </td><td> 1.0000000000</td><td>-0.03007540  </td><td> 0.060780318 </td><td> 0.029051618 </td><td> 0.0005571897</td><td>-0.234728793 </td></tr>\n",
       "\t<tr><th scope=row>Distance.MRT.Station</th><td> 0.035654649 </td><td> 0.044800159 </td><td>-0.0300754019</td><td> 1.00000000  </td><td>-0.573698559 </td><td>-0.516946303 </td><td>-0.7807440421</td><td>-0.647945109 </td></tr>\n",
       "\t<tr><th scope=row>Num.Convenience.Stores</th><td>-0.008363125 </td><td>-0.003808806 </td><td> 0.0607803177</td><td>-0.57369856  </td><td> 1.000000000 </td><td> 0.384426692 </td><td> 0.4183558909</td><td> 0.538969551 </td></tr>\n",
       "\t<tr><th scope=row>Lat</th><td>-0.003635433 </td><td> 0.029503859 </td><td> 0.0290516176</td><td>-0.51694630  </td><td> 0.384426692 </td><td> 1.000000000 </td><td> 0.3327100317</td><td> 0.529673071 </td></tr>\n",
       "\t<tr><th scope=row>Long</th><td>-0.068720257 </td><td>-0.015219792 </td><td> 0.0005571897</td><td>-0.78074404  </td><td> 0.418355891 </td><td> 0.332710032 </td><td> 1.0000000000</td><td> 0.468066293 </td></tr>\n",
       "\t<tr><th scope=row>House.Price.Unit.Area</th><td>-0.007641409 </td><td> 0.100632882 </td><td>-0.2347287927</td><td>-0.64794511  </td><td> 0.538969551 </td><td> 0.529673071 </td><td> 0.4680662930</td><td> 1.000000000 </td></tr>\n",
       "</tbody>\n",
       "</table>\n"
      ],
      "text/latex": [
       "\\begin{tabular}{r|llllllll}\n",
       "  & Index & Trans.Date & House.Age & Distance.MRT.Station & Num.Convenience.Stores & Lat & Long & House.Price.Unit.Area\\\\\n",
       "\\hline\n",
       "\tIndex &  1.000000000  & -0.052368161  & -0.0641866574 &  0.03565465   & -0.008363125  & -0.003635433  & -0.0687202568 & -0.007641409 \\\\\n",
       "\tTrans.Date & -0.052368161  &  1.000000000  & -0.0629781791 &  0.04480016   & -0.003808806  &  0.029503859  & -0.0152197925 &  0.100632882 \\\\\n",
       "\tHouse.Age & -0.064186657  & -0.062978179  &  1.0000000000 & -0.03007540   &  0.060780318  &  0.029051618  &  0.0005571897 & -0.234728793 \\\\\n",
       "\tDistance.MRT.Station &  0.035654649  &  0.044800159  & -0.0300754019 &  1.00000000   & -0.573698559  & -0.516946303  & -0.7807440421 & -0.647945109 \\\\\n",
       "\tNum.Convenience.Stores & -0.008363125  & -0.003808806  &  0.0607803177 & -0.57369856   &  1.000000000  &  0.384426692  &  0.4183558909 &  0.538969551 \\\\\n",
       "\tLat & -0.003635433  &  0.029503859  &  0.0290516176 & -0.51694630   &  0.384426692  &  1.000000000  &  0.3327100317 &  0.529673071 \\\\\n",
       "\tLong & -0.068720257  & -0.015219792  &  0.0005571897 & -0.78074404   &  0.418355891  &  0.332710032  &  1.0000000000 &  0.468066293 \\\\\n",
       "\tHouse.Price.Unit.Area & -0.007641409  &  0.100632882  & -0.2347287927 & -0.64794511   &  0.538969551  &  0.529673071  &  0.4680662930 &  1.000000000 \\\\\n",
       "\\end{tabular}\n"
      ],
      "text/markdown": [
       "\n",
       "| <!--/--> | Index | Trans.Date | House.Age | Distance.MRT.Station | Num.Convenience.Stores | Lat | Long | House.Price.Unit.Area | \n",
       "|---|---|---|---|---|---|---|---|\n",
       "| Index |  1.000000000  | -0.052368161  | -0.0641866574 |  0.03565465   | -0.008363125  | -0.003635433  | -0.0687202568 | -0.007641409  | \n",
       "| Trans.Date | -0.052368161  |  1.000000000  | -0.0629781791 |  0.04480016   | -0.003808806  |  0.029503859  | -0.0152197925 |  0.100632882  | \n",
       "| House.Age | -0.064186657  | -0.062978179  |  1.0000000000 | -0.03007540   |  0.060780318  |  0.029051618  |  0.0005571897 | -0.234728793  | \n",
       "| Distance.MRT.Station |  0.035654649  |  0.044800159  | -0.0300754019 |  1.00000000   | -0.573698559  | -0.516946303  | -0.7807440421 | -0.647945109  | \n",
       "| Num.Convenience.Stores | -0.008363125  | -0.003808806  |  0.0607803177 | -0.57369856   |  1.000000000  |  0.384426692  |  0.4183558909 |  0.538969551  | \n",
       "| Lat | -0.003635433  |  0.029503859  |  0.0290516176 | -0.51694630   |  0.384426692  |  1.000000000  |  0.3327100317 |  0.529673071  | \n",
       "| Long | -0.068720257  | -0.015219792  |  0.0005571897 | -0.78074404   |  0.418355891  |  0.332710032  |  1.0000000000 |  0.468066293  | \n",
       "| House.Price.Unit.Area | -0.007641409  |  0.100632882  | -0.2347287927 | -0.64794511   |  0.538969551  |  0.529673071  |  0.4680662930 |  1.000000000  | \n",
       "\n",
       "\n"
      ],
      "text/plain": [
       "                       Index        Trans.Date   House.Age    \n",
       "Index                   1.000000000 -0.052368161 -0.0641866574\n",
       "Trans.Date             -0.052368161  1.000000000 -0.0629781791\n",
       "House.Age              -0.064186657 -0.062978179  1.0000000000\n",
       "Distance.MRT.Station    0.035654649  0.044800159 -0.0300754019\n",
       "Num.Convenience.Stores -0.008363125 -0.003808806  0.0607803177\n",
       "Lat                    -0.003635433  0.029503859  0.0290516176\n",
       "Long                   -0.068720257 -0.015219792  0.0005571897\n",
       "House.Price.Unit.Area  -0.007641409  0.100632882 -0.2347287927\n",
       "                       Distance.MRT.Station Num.Convenience.Stores Lat         \n",
       "Index                   0.03565465          -0.008363125           -0.003635433\n",
       "Trans.Date              0.04480016          -0.003808806            0.029503859\n",
       "House.Age              -0.03007540           0.060780318            0.029051618\n",
       "Distance.MRT.Station    1.00000000          -0.573698559           -0.516946303\n",
       "Num.Convenience.Stores -0.57369856           1.000000000            0.384426692\n",
       "Lat                    -0.51694630           0.384426692            1.000000000\n",
       "Long                   -0.78074404           0.418355891            0.332710032\n",
       "House.Price.Unit.Area  -0.64794511           0.538969551            0.529673071\n",
       "                       Long          House.Price.Unit.Area\n",
       "Index                  -0.0687202568 -0.007641409         \n",
       "Trans.Date             -0.0152197925  0.100632882         \n",
       "House.Age               0.0005571897 -0.234728793         \n",
       "Distance.MRT.Station   -0.7807440421 -0.647945109         \n",
       "Num.Convenience.Stores  0.4183558909  0.538969551         \n",
       "Lat                     0.3327100317  0.529673071         \n",
       "Long                    1.0000000000  0.468066293         \n",
       "House.Price.Unit.Area   0.4680662930  1.000000000         "
      ]
     },
     "metadata": {},
     "output_type": "display_data"
    },
    {
     "data": {
      "image/png": "[encoded data removed]",
      "text/plain": [
       "Plot with title \"\""
      ]
     },
     "metadata": {},
     "output_type": "display_data"
    }
   ],
   "source": [
    "par(mfrow=c(1,1))\n",
    "mar=c(0,0,1,0)\n",
    "options(repr.plot.width=5, repr.plot.height=5)\n",
    "cor(train)\n",
    "corrplot(cor(train))"
   ]
  },
  {
   "cell_type": "markdown",
   "metadata": {},
   "source": [
    "## Key Takeaways from the Exploration\n",
    "* The Target has a strong, negative correlation with the distance to the nearest MRT subway station, so moving further from public transit correlates to a lower House Price of Unit Area \n",
    "* The Target has a strong, positive correlation with the longitude feature, so moving further from the Meridan is correlated with a higher House Price of Unit Area\n",
    "* The Target has a strong, positive correlation with the latitude feature, so moving further from the equator is correlated with a higher House Price of Unit Area\n",
    "* The Target has a strong, positive correlation with the number of convenience stores the property, so the more convenience stores nearby correlates to a higher House Price of Unit Area\n",
    "* The Target has a weak, negative correlation with the House Age, so the older the house correlates to lower House Price of Unit Area\n",
    "* There appears to be some multi-collinearity between the predictors, so that should be investigated when modelling\n",
    "* The squared-value of Housing Age might be useful for predicting the target\n",
    "* The interaction of latitude and longitude might be useful"
   ]
  },
  {
   "cell_type": "code",
   "execution_count": 556,
   "metadata": {},
   "outputs": [
    {
     "data": {
      "image/png": "[encoded data removed]",
      "text/plain": [
       "Plot with title \"Correlation Matrix Plot\""
      ]
     },
     "metadata": {},
     "output_type": "display_data"
    }
   ],
   "source": [
    "corrplot(cor(train), main=\"Correlation Matrix Plot\", sub=\"Figure 10\")"
   ]
  },
  {
   "cell_type": "markdown",
   "metadata": {},
   "source": [
    "## Data Modeling\n",
    "A statistical learning model must be crafted to solve the problem of predicting House Price per Unit Area. The model will learn a function to map the input predictors to the target output variable, using training data; the model will be assessed by its predictive capabilities on test data. \n",
    "\n",
    "Some things to consider, there is a limited amount of observations available and there is a limited features available. Due to the limited amount of data available, the approach for this analysis will be consider parametric, and semi-parametric, statistical learning algorithms; parametric statistical learning algorithms assumes a functional form that constrains the hypothesis space and limits complexity. Some disadvantages of the parametric models is that they are relatively inflexible and their assumed functional forms are unlikely to exactly match the true mapping function of the inputs and the target(s). Some Advantages are the simplicity, speed, and relatively intuitive interpretatbility. Semi-parametric models provide extended flexibility with the trade-off being some of the interpretability; these approaches are a decent compromise being the parametric and non-parametric approaches."
   ]
  },
  {
   "cell_type": "markdown",
   "metadata": {},
   "source": [
    "### Initial Multiple Linear Regression Model\n",
    "The initial Model will contain all possible features in a multiple linear regression model with polynomial terms and interaction terms where reasonable."
   ]
  },
  {
   "cell_type": "code",
   "execution_count": 557,
   "metadata": {},
   "outputs": [
    {
     "data": {
      "text/plain": [
       "\n",
       "Call:\n",
       "lm(formula = House.Price.Unit.Area ~ Trans.Date + House.Age + \n",
       "    Distance.MRT.Station + Num.Convenience.Stores + Lat + Long + \n",
       "    1, data = train)\n",
       "\n",
       "Residuals:\n",
       "    Min      1Q  Median      3Q     Max \n",
       "-35.530  -4.981  -0.902   4.584  73.900 \n",
       "\n",
       "Coefficients:\n",
       "                         Estimate Std. Error t value Pr(>|t|)    \n",
       "(Intercept)            -9.611e+03  8.207e+03  -1.171   0.2426    \n",
       "Trans.Date              4.763e+00  1.939e+00   2.457   0.0147 *  \n",
       "House.Age              -3.139e-01  4.738e-02  -6.626 1.91e-10 ***\n",
       "Distance.MRT.Station   -5.183e-03  8.623e-04  -6.011 6.04e-09 ***\n",
       "Num.Convenience.Stores  1.058e+00  2.236e-01   4.729 3.66e-06 ***\n",
       "Lat                     2.614e+02  5.332e+01   4.902 1.65e-06 ***\n",
       "Long                   -5.315e+01  5.861e+01  -0.907   0.3654    \n",
       "---\n",
       "Signif. codes:  0 '***' 0.001 '**' 0.01 '*' 0.05 '.' 0.1 ' ' 1\n",
       "\n",
       "Residual standard error: 8.809 on 266 degrees of freedom\n",
       "Multiple R-squared:  0.5849,\tAdjusted R-squared:  0.5755 \n",
       "F-statistic: 62.47 on 6 and 266 DF,  p-value: < 2.2e-16\n"
      ]
     },
     "metadata": {},
     "output_type": "display_data"
    },
    {
     "data": {
      "text/html": [
       "2000.51865245794"
      ],
      "text/latex": [
       "2000.51865245794"
      ],
      "text/markdown": [
       "2000.51865245794"
      ],
      "text/plain": [
       "[1] 2000.519"
      ]
     },
     "metadata": {},
     "output_type": "display_data"
    },
    {
     "name": "stdout",
     "output_type": "stream",
     "text": [
      "[1] 5.90709\n"
     ]
    }
   ],
   "source": [
    "model1 <- lm(House.Price.Unit.Area ~ \n",
    "             Trans.Date + \n",
    "             House.Age +\n",
    "             Distance.MRT.Station +\n",
    "             Num.Convenience.Stores + \n",
    "             Lat + \n",
    "             Long +\n",
    "             1,\n",
    "             data = train\n",
    ")\n",
    "\n",
    "summary(model1)\n",
    "BIC(model1)\n",
    "print(mean(abs((model1$residuals))))"
   ]
  },
  {
   "cell_type": "code",
   "execution_count": 558,
   "metadata": {
    "scrolled": false
   },
   "outputs": [
    {
     "data": {
      "image/png": "[encoded data removed]",
      "text/plain": [
       "Plot with title \"Residuals vs Fits\""
      ]
     },
     "metadata": {},
     "output_type": "display_data"
    }
   ],
   "source": [
    "plot(y=resid(model1), model1$fitted.values,\n",
    "     main=\"Residuals vs Fits\",\n",
    "     ylab=\"Residuals\", \n",
    "     xlab=\"Fitted Values\",\n",
    "     sub=\"Figure 1\")\n",
    "abline(h=quantile(model1$residuals, prob=0.01))\n",
    "abline(h=quantile(model1$residuals, prob=0.50))\n",
    "abline(h=quantile(model1$residuals, prob=0.99))\n",
    "abline(h=0, col=\"red\")"
   ]
  },
  {
   "cell_type": "code",
   "execution_count": 559,
   "metadata": {},
   "outputs": [
    {
     "name": "stdout",
     "output_type": "stream",
     "text": [
      "[1] \"MAE:  6.58455299219199\"\n",
      "[1] \"MAPE:  0.199878204193001\"\n"
     ]
    },
    {
     "data": {
      "text/html": [
       "<table>\n",
       "<thead><tr><th></th><th scope=col>predictions1</th><th scope=col></th><th scope=col></th><th scope=col></th></tr></thead>\n",
       "<tbody>\n",
       "\t<tr><th scope=row>2</th><td>48.08720  </td><td>42.2      </td><td> 5.8872033</td><td>34.6591629</td></tr>\n",
       "\t<tr><th scope=row>4</th><td>48.88359  </td><td>54.8      </td><td>-5.9164103</td><td>35.0039109</td></tr>\n",
       "\t<tr><th scope=row>5</th><td>47.16399  </td><td>43.1      </td><td> 4.0639861</td><td>16.5159834</td></tr>\n",
       "\t<tr><th scope=row>6</th><td>31.67391  </td><td>32.1      </td><td>-0.4260927</td><td> 0.1815550</td></tr>\n",
       "\t<tr><th scope=row>7</th><td>38.33007  </td><td>40.3      </td><td>-1.9699302</td><td> 3.8806249</td></tr>\n",
       "\t<tr><th scope=row>8</th><td>47.01715  </td><td>46.7      </td><td> 0.3171462</td><td> 0.1005817</td></tr>\n",
       "</tbody>\n",
       "</table>\n"
      ],
      "text/latex": [
       "\\begin{tabular}{r|llll}\n",
       "  & predictions1 &  &  & \\\\\n",
       "\\hline\n",
       "\t2 & 48.08720   & 42.2       &  5.8872033 & 34.6591629\\\\\n",
       "\t4 & 48.88359   & 54.8       & -5.9164103 & 35.0039109\\\\\n",
       "\t5 & 47.16399   & 43.1       &  4.0639861 & 16.5159834\\\\\n",
       "\t6 & 31.67391   & 32.1       & -0.4260927 &  0.1815550\\\\\n",
       "\t7 & 38.33007   & 40.3       & -1.9699302 &  3.8806249\\\\\n",
       "\t8 & 47.01715   & 46.7       &  0.3171462 &  0.1005817\\\\\n",
       "\\end{tabular}\n"
      ],
      "text/markdown": [
       "\n",
       "| <!--/--> | predictions1 |  |  |  | \n",
       "|---|---|---|---|---|---|\n",
       "| 2 | 48.08720   | 42.2       |  5.8872033 | 34.6591629 | \n",
       "| 4 | 48.88359   | 54.8       | -5.9164103 | 35.0039109 | \n",
       "| 5 | 47.16399   | 43.1       |  4.0639861 | 16.5159834 | \n",
       "| 6 | 31.67391   | 32.1       | -0.4260927 |  0.1815550 | \n",
       "| 7 | 38.33007   | 40.3       | -1.9699302 |  3.8806249 | \n",
       "| 8 | 47.01715   | 46.7       |  0.3171462 |  0.1005817 | \n",
       "\n",
       "\n"
      ],
      "text/plain": [
       "  predictions1                           \n",
       "2 48.08720     42.2  5.8872033 34.6591629\n",
       "4 48.88359     54.8 -5.9164103 35.0039109\n",
       "5 47.16399     43.1  4.0639861 16.5159834\n",
       "6 31.67391     32.1 -0.4260927  0.1815550\n",
       "7 38.33007     40.3 -1.9699302  3.8806249\n",
       "8 47.01715     46.7  0.3171462  0.1005817"
      ]
     },
     "metadata": {},
     "output_type": "display_data"
    }
   ],
   "source": [
    "predictions1 <- (predict(model1, newdata=test))\n",
    "test_errors1 <- (predictions1-test$House.Price.Unit.Area)\n",
    "ape1 <- abs(test_errors1)/test$House.Price.Unit.Area\n",
    "ae1 <- abs(test_errors1)\n",
    "mae1 <- mean(ae1)\n",
    "mape1 <- mean(ape1)\n",
    "predictionDF2 <- cbind(\"predictions\"=predictions1,\n",
    "                      \"actual obs\"=test$House.Price.Unit.Area,\n",
    "                      \"error\"=(test_errors1),\n",
    "                      \"abs error\" = ae1,\n",
    "                      \"abs % error\"= ape1)\n",
    "print(paste(\"MAE: \", mae1))\n",
    "print(paste(\"MAPE: \", mape1))\n",
    "(head(predictionDF1))"
   ]
  },
  {
   "cell_type": "markdown",
   "metadata": {},
   "source": [
    "### Refining the Multiple Linear Regression Model\n",
    "The visual assessment of the residuals seems to indicate the linearity condition is violated; the residuals imply that the fit of the relationship between the target and the predictors is not strictly linear, so that must be accounted for that with higher-order terms of some of the predictors. From our preliminary data exploration, it seemed that House Age and Distance to MRT Station are predictors that may benefit from higher-order terms."
   ]
  },
  {
   "cell_type": "code",
   "execution_count": 560,
   "metadata": {},
   "outputs": [
    {
     "data": {
      "text/plain": [
       "\n",
       "Call:\n",
       "lm(formula = House.Price.Unit.Area ~ Trans.Date + House.Age + \n",
       "    I(House.Age^2) + I(House.Age^3) + Distance.MRT.Station + \n",
       "    I(Distance.MRT.Station^2) + I(Distance.MRT.Station^3) + Num.Convenience.Stores + \n",
       "    Lat + Long + 1, data = train)\n",
       "\n",
       "Residuals:\n",
       "    Min      1Q  Median      3Q     Max \n",
       "-33.555  -3.358  -0.049   3.050  68.944 \n",
       "\n",
       "Coefficients:\n",
       "                            Estimate Std. Error t value Pr(>|t|)    \n",
       "(Intercept)               -1.872e+04  7.210e+03  -2.596  0.00996 ** \n",
       "Trans.Date                 6.299e+00  1.692e+00   3.724  0.00024 ***\n",
       "House.Age                 -4.594e-01  3.485e-01  -1.318  0.18856    \n",
       "I(House.Age^2)            -1.732e-02  2.143e-02  -0.808  0.41973    \n",
       "I(House.Age^3)             5.823e-04  3.676e-04   1.584  0.11441    \n",
       "Distance.MRT.Station      -2.292e-02  2.581e-03  -8.882  < 2e-16 ***\n",
       "I(Distance.MRT.Station^2)  7.154e-06  1.115e-06   6.418 6.44e-10 ***\n",
       "I(Distance.MRT.Station^3) -6.813e-10  1.313e-10  -5.188 4.25e-07 ***\n",
       "Num.Convenience.Stores     3.512e-01  2.133e-01   1.646  0.10089    \n",
       "Lat                        3.099e+02  4.710e+01   6.579 2.56e-10 ***\n",
       "Long                      -1.353e+01  5.101e+01  -0.265  0.79104    \n",
       "---\n",
       "Signif. codes:  0 '***' 0.001 '**' 0.01 '*' 0.05 '.' 0.1 ' ' 1\n",
       "\n",
       "Residual standard error: 7.613 on 262 degrees of freedom\n",
       "Multiple R-squared:  0.6947,\tAdjusted R-squared:  0.683 \n",
       "F-statistic: 59.61 on 10 and 262 DF,  p-value: < 2.2e-16\n"
      ]
     },
     "metadata": {},
     "output_type": "display_data"
    },
    {
     "data": {
      "text/html": [
       "1895.79683400078"
      ],
      "text/latex": [
       "1895.79683400078"
      ],
      "text/markdown": [
       "1895.79683400078"
      ],
      "text/plain": [
       "[1] 1895.797"
      ]
     },
     "metadata": {},
     "output_type": "display_data"
    },
    {
     "name": "stdout",
     "output_type": "stream",
     "text": [
      "[1] 4.593541\n"
     ]
    }
   ],
   "source": [
    "model2 <- lm(House.Price.Unit.Area ~ \n",
    "             Trans.Date + \n",
    "             House.Age + I(House.Age**2) + I(House.Age**3) + \n",
    "             Distance.MRT.Station + I(Distance.MRT.Station**2) + I(Distance.MRT.Station**3) + \n",
    "             Num.Convenience.Stores + \n",
    "             Lat + \n",
    "             Long +\n",
    "             1,\n",
    "             data = train\n",
    ")\n",
    "\n",
    "summary(model2)\n",
    "AIC(model2)\n",
    "print(mean(abs((model2$residuals))))"
   ]
  },
  {
   "cell_type": "code",
   "execution_count": 561,
   "metadata": {},
   "outputs": [
    {
     "data": {
      "image/png": "[encoded data removed]",
      "text/plain": [
       "Plot with title \"Residuals vs Fits\""
      ]
     },
     "metadata": {},
     "output_type": "display_data"
    }
   ],
   "source": [
    "plot(y=model2$residuals, model2$fitted.values,\n",
    "     main=\"Residuals vs Fits\",\n",
    "     ylab=\"Residuals\", \n",
    "     xlab=\"Fitted Values\",\n",
    "     sub=\"Figure 2\")\n",
    "abline(h=quantile(model2$residuals, prob=0.01))\n",
    "abline(h=quantile(model2$residuals, prob=0.50))\n",
    "abline(h=quantile(model2$residuals, prob=0.99))\n",
    "abline(h=0, col=\"red\")"
   ]
  },
  {
   "cell_type": "code",
   "execution_count": 583,
   "metadata": {},
   "outputs": [
    {
     "name": "stdout",
     "output_type": "stream",
     "text": [
      "[1] \"MAE:  5.5688019392611\"\n",
      "[1] \"MAPE:  0.164218118583633\"\n"
     ]
    },
    {
     "data": {
      "text/html": [
       "<table>\n",
       "<thead><tr><th></th><th scope=col>actual obs</th><th scope=col>predictions.fit</th><th scope=col>predictions.lwr</th><th scope=col>predictions.upr</th><th scope=col>abs error</th><th scope=col>abs % error</th></tr></thead>\n",
       "<tbody>\n",
       "\t<tr><th scope=row>2</th><td>42.2       </td><td>44.39229   </td><td>29.20795   </td><td>59.57662   </td><td>2.1922878  </td><td>0.051949949</td></tr>\n",
       "\t<tr><th scope=row>4</th><td>54.8       </td><td>47.86109   </td><td>32.69671   </td><td>63.02548   </td><td>6.9389073  </td><td>0.126622396</td></tr>\n",
       "\t<tr><th scope=row>5</th><td>43.1       </td><td>49.16028   </td><td>34.02782   </td><td>64.29273   </td><td>6.0602752  </td><td>0.140609634</td></tr>\n",
       "\t<tr><th scope=row>6</th><td>32.1       </td><td>26.36965   </td><td>11.03757   </td><td>41.70173   </td><td>5.7303481  </td><td>0.178515519</td></tr>\n",
       "\t<tr><th scope=row>7</th><td>40.3       </td><td>35.21792   </td><td>19.97768   </td><td>50.45816   </td><td>5.0820798  </td><td>0.126106199</td></tr>\n",
       "\t<tr><th scope=row>8</th><td>46.7       </td><td>46.46833   </td><td>31.32938   </td><td>61.60727   </td><td>0.2316749  </td><td>0.004960919</td></tr>\n",
       "</tbody>\n",
       "</table>\n"
      ],
      "text/latex": [
       "\\begin{tabular}{r|llllll}\n",
       "  & actual obs & predictions.fit & predictions.lwr & predictions.upr & abs error & abs \\% error\\\\\n",
       "\\hline\n",
       "\t2 & 42.2        & 44.39229    & 29.20795    & 59.57662    & 2.1922878   & 0.051949949\\\\\n",
       "\t4 & 54.8        & 47.86109    & 32.69671    & 63.02548    & 6.9389073   & 0.126622396\\\\\n",
       "\t5 & 43.1        & 49.16028    & 34.02782    & 64.29273    & 6.0602752   & 0.140609634\\\\\n",
       "\t6 & 32.1        & 26.36965    & 11.03757    & 41.70173    & 5.7303481   & 0.178515519\\\\\n",
       "\t7 & 40.3        & 35.21792    & 19.97768    & 50.45816    & 5.0820798   & 0.126106199\\\\\n",
       "\t8 & 46.7        & 46.46833    & 31.32938    & 61.60727    & 0.2316749   & 0.004960919\\\\\n",
       "\\end{tabular}\n"
      ],
      "text/markdown": [
       "\n",
       "| <!--/--> | actual obs | predictions.fit | predictions.lwr | predictions.upr | abs error | abs % error | \n",
       "|---|---|---|---|---|---|\n",
       "| 2 | 42.2        | 44.39229    | 29.20795    | 59.57662    | 2.1922878   | 0.051949949 | \n",
       "| 4 | 54.8        | 47.86109    | 32.69671    | 63.02548    | 6.9389073   | 0.126622396 | \n",
       "| 5 | 43.1        | 49.16028    | 34.02782    | 64.29273    | 6.0602752   | 0.140609634 | \n",
       "| 6 | 32.1        | 26.36965    | 11.03757    | 41.70173    | 5.7303481   | 0.178515519 | \n",
       "| 7 | 40.3        | 35.21792    | 19.97768    | 50.45816    | 5.0820798   | 0.126106199 | \n",
       "| 8 | 46.7        | 46.46833    | 31.32938    | 61.60727    | 0.2316749   | 0.004960919 | \n",
       "\n",
       "\n"
      ],
      "text/plain": [
       "  actual obs predictions.fit predictions.lwr predictions.upr abs error\n",
       "2 42.2       44.39229        29.20795        59.57662        2.1922878\n",
       "4 54.8       47.86109        32.69671        63.02548        6.9389073\n",
       "5 43.1       49.16028        34.02782        64.29273        6.0602752\n",
       "6 32.1       26.36965        11.03757        41.70173        5.7303481\n",
       "7 40.3       35.21792        19.97768        50.45816        5.0820798\n",
       "8 46.7       46.46833        31.32938        61.60727        0.2316749\n",
       "  abs % error\n",
       "2 0.051949949\n",
       "4 0.126622396\n",
       "5 0.140609634\n",
       "6 0.178515519\n",
       "7 0.126106199\n",
       "8 0.004960919"
      ]
     },
     "metadata": {},
     "output_type": "display_data"
    }
   ],
   "source": [
    "predictions2 <- data.frame(predict(model2, newdata=test, interval=\"predict\"))\n",
    "test_errors2 <- (test$House.Price.Unit.Area-predictions2$fit)\n",
    "ape2 <- abs(test_errors2)/test$House.Price.Unit.Area\n",
    "ae2 <- abs(test_errors2)\n",
    "mae2 <- mean(ae2)\n",
    "mape2 <- mean(ape2)\n",
    "predictionDF2 <- cbind(\n",
    "    \"actual obs\"=test$House.Price.Unit.Area,\n",
    "    \"predictions\"=predictions2,\n",
    "    \"abs error\" = ae2,\n",
    "    \"abs % error\"= ape2)\n",
    "print(paste(\"MAE: \", mae2))\n",
    "print(paste(\"MAPE: \", mape2))\n",
    "(head(predictionDF2))"
   ]
  },
  {
   "cell_type": "markdown",
   "metadata": {},
   "source": [
    "### Finalizing the Multiple Linear Regression Model\n",
    "The visual assessment of the residuals seems to indicate the equal variance condition is violated; the response will be log-transformed to address this concern. The longitude feature did not contribue much to the model, so it will be dropped in the final model."
   ]
  },
  {
   "cell_type": "code",
   "execution_count": 563,
   "metadata": {},
   "outputs": [
    {
     "data": {
      "text/plain": [
       "\n",
       "Call:\n",
       "lm(formula = I(log(House.Price.Unit.Area)) ~ Trans.Date + House.Age + \n",
       "    I(House.Age^2) + I(House.Age^3) + Distance.MRT.Station + \n",
       "    I(Distance.MRT.Station^2) + I(Distance.MRT.Station^3) + Lat + \n",
       "    Num.Convenience.Stores + 1, data = train)\n",
       "\n",
       "Residuals:\n",
       "     Min       1Q   Median       3Q      Max \n",
       "-1.62062 -0.09276  0.01869  0.09919  0.92191 \n",
       "\n",
       "Coefficients:\n",
       "                            Estimate Std. Error t value Pr(>|t|)    \n",
       "(Intercept)               -5.705e+02  8.972e+01  -6.358 8.97e-10 ***\n",
       "Trans.Date                 1.591e-01  4.266e-02   3.731 0.000234 ***\n",
       "House.Age                 -1.103e-02  8.779e-03  -1.256 0.210289    \n",
       "I(House.Age^2)            -4.880e-04  5.396e-04  -0.904 0.366617    \n",
       "I(House.Age^3)             1.585e-05  9.258e-06   1.712 0.088091 .  \n",
       "Distance.MRT.Station      -5.602e-04  6.451e-05  -8.683 4.14e-16 ***\n",
       "I(Distance.MRT.Station^2)  1.742e-07  2.807e-08   6.205 2.12e-09 ***\n",
       "I(Distance.MRT.Station^3) -1.790e-11  3.310e-12  -5.407 1.44e-07 ***\n",
       "Lat                        1.018e+01  1.177e+00   8.647 5.30e-16 ***\n",
       "Num.Convenience.Stores     1.236e-02  5.380e-03   2.296 0.022436 *  \n",
       "---\n",
       "Signif. codes:  0 '***' 0.001 '**' 0.01 '*' 0.05 '.' 0.1 ' ' 1\n",
       "\n",
       "Residual standard error: 0.192 on 263 degrees of freedom\n",
       "Multiple R-squared:  0.7542,\tAdjusted R-squared:  0.7458 \n",
       "F-statistic: 89.65 on 9 and 263 DF,  p-value: < 2.2e-16\n"
      ]
     },
     "metadata": {},
     "output_type": "display_data"
    },
    {
     "data": {
      "text/html": [
       "-114.432400427461"
      ],
      "text/latex": [
       "-114.432400427461"
      ],
      "text/markdown": [
       "-114.432400427461"
      ],
      "text/plain": [
       "[1] -114.4324"
      ]
     },
     "metadata": {},
     "output_type": "display_data"
    },
    {
     "name": "stdout",
     "output_type": "stream",
     "text": [
      "[1] 0.1248936\n"
     ]
    }
   ],
   "source": [
    "model3 <- lm(I(log(House.Price.Unit.Area)) ~\n",
    "             Trans.Date + \n",
    "             House.Age + I(House.Age**2) + I(House.Age**3) +  \n",
    "             Distance.MRT.Station + I(Distance.MRT.Station**2) + I(Distance.MRT.Station**3) +\n",
    "             Lat + \n",
    "             Num.Convenience.Stores + \n",
    "             1,\n",
    "             data = train\n",
    ")\n",
    "\n",
    "summary(model3)\n",
    "AIC(model3)\n",
    "print(mean(abs((model3$residuals))))"
   ]
  },
  {
   "cell_type": "code",
   "execution_count": 564,
   "metadata": {},
   "outputs": [
    {
     "data": {
      "image/png": "[encoded data removed]",
      "text/plain": [
       "Plot with title \"Residuals vs Fits\""
      ]
     },
     "metadata": {},
     "output_type": "display_data"
    }
   ],
   "source": [
    "plot(y=model3$residuals, model3$fitted.values,\n",
    "     main=\"Residuals vs Fits\",\n",
    "     ylab=\"Residuals\", \n",
    "     xlab=\"Fitted Values\",\n",
    "     sub=\"Figure 3\")\n",
    "abline(h=quantile(model3$residuals, prob=0.01))\n",
    "abline(h=quantile(model3$residuals, prob=0.50))\n",
    "abline(h=quantile(model3$residuals, prob=0.99))\n",
    "abline(h=0, col=\"red\")"
   ]
  },
  {
   "cell_type": "code",
   "execution_count": 565,
   "metadata": {},
   "outputs": [
    {
     "data": {
      "image/png": "[encoded data removed]",
      "text/plain": [
       "Plot with title \"Residuals vs Sequence/Time\""
      ]
     },
     "metadata": {},
     "output_type": "display_data"
    }
   ],
   "source": [
    "plot(y=model3$residuals, ts(model3$model$Trans.Date),\n",
    "     main=\"Residuals vs Sequence/Time\",\n",
    "     ylab=\"Residuals\", \n",
    "     xlab=\"Time\",\n",
    "     sub=\"Figure 4\")\n",
    "abline(h=quantile(model3$residuals, prob=0.01))\n",
    "abline(h=quantile(model3$residuals, prob=0.50))\n",
    "abline(h=quantile(model3$residuals, prob=0.99))\n",
    "abline(h=0, col=\"red\")"
   ]
  },
  {
   "cell_type": "code",
   "execution_count": 566,
   "metadata": {},
   "outputs": [
    {
     "data": {
      "image/png": "[encoded data removed]",
      "text/plain": [
       "Plot with title \"Histogram of Residuals\""
      ]
     },
     "metadata": {},
     "output_type": "display_data"
    },
    {
     "data": {
      "text/html": [
       "<dl class=dl-horizontal>\n",
       "\t<dt>271</dt>\n",
       "\t\t<dd>139</dd>\n",
       "\t<dt>114</dt>\n",
       "\t\t<dd>159</dd>\n",
       "</dl>\n"
      ],
      "text/latex": [
       "\\begin{description*}\n",
       "\\item[271] 139\n",
       "\\item[114] 159\n",
       "\\end{description*}\n"
      ],
      "text/markdown": [
       "271\n",
       ":   139114\n",
       ":   159\n",
       "\n"
      ],
      "text/plain": [
       "271 114 \n",
       "139 159 "
      ]
     },
     "metadata": {},
     "output_type": "display_data"
    },
    {
     "data": {
      "image/png": "[encoded data removed]",
      "text/plain": [
       "Plot with title \"QQ Normality Plot of Residuals\""
      ]
     },
     "metadata": {},
     "output_type": "display_data"
    }
   ],
   "source": [
    "hist(model3$residuals,\n",
    "     main=\"Histogram of Residuals\",\n",
    "     ylab=\"Frequency\", \n",
    "     xlab=\"Residuals\",\n",
    "     sub=\"Figure 5\")\n",
    "\n",
    "qqPlot(model3, main = \"QQ Normality Plot of Residuals\")"
   ]
  },
  {
   "cell_type": "code",
   "execution_count": 581,
   "metadata": {},
   "outputs": [
    {
     "name": "stdout",
     "output_type": "stream",
     "text": [
      "[1] \"MAE:  5.50401683761115\"\n",
      "[1] \"MAPE:  0.157725986215554\"\n"
     ]
    },
    {
     "data": {
      "text/html": [
       "<table>\n",
       "<thead><tr><th></th><th scope=col>actual obs</th><th scope=col>predictions.fit</th><th scope=col>predictions.lwr</th><th scope=col>predictions.upr</th><th scope=col>abs error</th><th scope=col>abs % error</th></tr></thead>\n",
       "<tbody>\n",
       "\t<tr><th scope=row>2</th><td>42.2      </td><td>43.96307  </td><td>29.97475  </td><td>64.47933  </td><td>1.7630737 </td><td>0.04177900</td></tr>\n",
       "\t<tr><th scope=row>4</th><td>54.8      </td><td>48.39790  </td><td>33.02634  </td><td>70.92389  </td><td>6.4021032 </td><td>0.11682670</td></tr>\n",
       "\t<tr><th scope=row>5</th><td>43.1      </td><td>48.95991  </td><td>33.42831  </td><td>71.70787  </td><td>5.8599073 </td><td>0.13596073</td></tr>\n",
       "\t<tr><th scope=row>6</th><td>32.1      </td><td>25.96132  </td><td>17.65582  </td><td>38.17383  </td><td>6.1386761 </td><td>0.19123601</td></tr>\n",
       "\t<tr><th scope=row>7</th><td>40.3      </td><td>34.85428  </td><td>23.73074  </td><td>51.19187  </td><td>5.4457156 </td><td>0.13512942</td></tr>\n",
       "\t<tr><th scope=row>8</th><td>46.7      </td><td>45.88479  </td><td>31.32256  </td><td>67.21717  </td><td>0.8152083 </td><td>0.01745628</td></tr>\n",
       "</tbody>\n",
       "</table>\n"
      ],
      "text/latex": [
       "\\begin{tabular}{r|llllll}\n",
       "  & actual obs & predictions.fit & predictions.lwr & predictions.upr & abs error & abs \\% error\\\\\n",
       "\\hline\n",
       "\t2 & 42.2       & 43.96307   & 29.97475   & 64.47933   & 1.7630737  & 0.04177900\\\\\n",
       "\t4 & 54.8       & 48.39790   & 33.02634   & 70.92389   & 6.4021032  & 0.11682670\\\\\n",
       "\t5 & 43.1       & 48.95991   & 33.42831   & 71.70787   & 5.8599073  & 0.13596073\\\\\n",
       "\t6 & 32.1       & 25.96132   & 17.65582   & 38.17383   & 6.1386761  & 0.19123601\\\\\n",
       "\t7 & 40.3       & 34.85428   & 23.73074   & 51.19187   & 5.4457156  & 0.13512942\\\\\n",
       "\t8 & 46.7       & 45.88479   & 31.32256   & 67.21717   & 0.8152083  & 0.01745628\\\\\n",
       "\\end{tabular}\n"
      ],
      "text/markdown": [
       "\n",
       "| <!--/--> | actual obs | predictions.fit | predictions.lwr | predictions.upr | abs error | abs % error | \n",
       "|---|---|---|---|---|---|\n",
       "| 2 | 42.2       | 43.96307   | 29.97475   | 64.47933   | 1.7630737  | 0.04177900 | \n",
       "| 4 | 54.8       | 48.39790   | 33.02634   | 70.92389   | 6.4021032  | 0.11682670 | \n",
       "| 5 | 43.1       | 48.95991   | 33.42831   | 71.70787   | 5.8599073  | 0.13596073 | \n",
       "| 6 | 32.1       | 25.96132   | 17.65582   | 38.17383   | 6.1386761  | 0.19123601 | \n",
       "| 7 | 40.3       | 34.85428   | 23.73074   | 51.19187   | 5.4457156  | 0.13512942 | \n",
       "| 8 | 46.7       | 45.88479   | 31.32256   | 67.21717   | 0.8152083  | 0.01745628 | \n",
       "\n",
       "\n"
      ],
      "text/plain": [
       "  actual obs predictions.fit predictions.lwr predictions.upr abs error\n",
       "2 42.2       43.96307        29.97475        64.47933        1.7630737\n",
       "4 54.8       48.39790        33.02634        70.92389        6.4021032\n",
       "5 43.1       48.95991        33.42831        71.70787        5.8599073\n",
       "6 32.1       25.96132        17.65582        38.17383        6.1386761\n",
       "7 40.3       34.85428        23.73074        51.19187        5.4457156\n",
       "8 46.7       45.88479        31.32256        67.21717        0.8152083\n",
       "  abs % error\n",
       "2 0.04177900 \n",
       "4 0.11682670 \n",
       "5 0.13596073 \n",
       "6 0.19123601 \n",
       "7 0.13512942 \n",
       "8 0.01745628 "
      ]
     },
     "metadata": {},
     "output_type": "display_data"
    }
   ],
   "source": [
    "predictions3 <- data.frame(exp(predict(model3, newdata=test, interval=\"predict\")))\n",
    "test_errors3 <- (test$House.Price.Unit.Area-predictions3$fit)\n",
    "ape3 <- abs(test_errors3)/test$House.Price.Unit.Area\n",
    "ae3 <- abs(test_errors3)\n",
    "mae3 <- mean(ae3)\n",
    "mape3 <- mean(ape3)\n",
    "predictionDF3 <- cbind(\n",
    "    \"actual obs\"=test$House.Price.Unit.Area,\n",
    "    \"predictions\"=predictions3,\n",
    "    \"abs error\" = ae3,\n",
    "    \"abs % error\"= ape3)\n",
    "print(paste(\"MAE: \", mae3))\n",
    "print(paste(\"MAPE: \", mape3))\n",
    "(head(predictionDF3))"
   ]
  },
  {
   "cell_type": "markdown",
   "metadata": {},
   "source": [
    "## Multiple Linear Regression Model Evaluation\n",
    "### LINE Conditions\n",
    "#### Linearity\n",
    "By visually assessing **Figure 3**, the residuals look good; they appear to randomly bounce around the residual = 0 with no systematic pattern, which validates the linearity condition\n",
    "    \n",
    "#### Independence of Residuals\n",
    "By visually assessing **Figure 4** it appears that the residuals do not show signs of autocorrelation; the residuals appear to be independent of those immediately proceeding and following.\n",
    "\n",
    "#### Normality of Residuals\n",
    "**Figure 5** and the corresponding QQ Normality Plot shows some slightly concerning signs. The residuals deviate from normality towards the extreme values of the right-tail. Overall, it looks like the residuals are still approximately normal, at least close enough for the model to still be valid. Earlier in our preliminary data exploration we saw that a couple data points were outliers.\n",
    "    \n",
    "#### Equal Variance of Residuals\n",
    "The residuals form a rough horizontal band around the residual = 0 line, which validates the equal variance assumption for the model."
   ]
  },
  {
   "cell_type": "markdown",
   "metadata": {},
   "source": [
    "## Generalized Additive Model\n",
    "The Generalized additive model is a semi-parametric approach and it is an extension of the linear model that allows for more flexibility; while the linear model assumes a linear relationship between the features and the response, the generalized additive models allow for curvilinear relationships to be fit by, and while maintaining additivity, using non-linear functions of the features. The idea behind generalized additive models is that the association between each individual feature and the response follow a pattern that may be linear or nonlinear and these individual relationships can be estimated and subsequently added up to predict the response. Though we lose a bit in the way of intuitive interpretation of the model, we can still observe the effects of each feature due to the additive nature of the model. The main drawback is also related to the additive nature of the model. Also important to note is that the flexibility of the predictor functions can uncover patterns hidden deep in the data and the regularization of the predictor functions can help prevent overfitting to the training data. \n",
    "\n",
    "We observed that there is a curvilinear relationship between the features and the response, so a generalized additive model should be an appropriate approach to pursue. We will fit a generalized additive model that matches the performance of the finalized multiple linear regression above without the need to specify the higher-order terms of the model."
   ]
  },
  {
   "cell_type": "code",
   "execution_count": 861,
   "metadata": {},
   "outputs": [
    {
     "data": {
      "text/plain": [
       "\n",
       "Family: quasi \n",
       "Link function: identity \n",
       "\n",
       "Formula:\n",
       "(House.Price.Unit.Area) ~ 1 + (Trans.Date) + s((House.Age)) + \n",
       "    s(Distance.MRT.Station) + (Lat) + (Num.Convenience.Stores)\n",
       "\n",
       "Parametric coefficients:\n",
       "                         Estimate Std. Error t value Pr(>|t|)    \n",
       "(Intercept)            -1.893e+04  3.154e+03  -6.003 6.51e-09 ***\n",
       "Trans.Date              5.626e+00  1.481e+00   3.798 0.000182 ***\n",
       "Lat                     3.061e+02  4.264e+01   7.180 7.41e-12 ***\n",
       "Num.Convenience.Stores  4.296e-01  2.232e-01   1.925 0.055338 .  \n",
       "---\n",
       "Signif. codes:  0 '***' 0.001 '**' 0.01 '*' 0.05 '.' 0.1 ' ' 1\n",
       "\n",
       "Approximate significance of smooth terms:\n",
       "                          edf Ref.df     F  p-value    \n",
       "s(House.Age)            6.012  7.176 10.54 5.61e-12 ***\n",
       "s(Distance.MRT.Station) 4.370  5.319 24.37  < 2e-16 ***\n",
       "---\n",
       "Signif. codes:  0 '***' 0.001 '**' 0.01 '*' 0.05 '.' 0.1 ' ' 1\n",
       "\n",
       "R-sq.(adj) =  0.687   Deviance explained = 74.5%\n",
       "GCV = 1.3471  Scale est. = 1.3509    n = 273"
      ]
     },
     "metadata": {},
     "output_type": "display_data"
    },
    {
     "name": "stdout",
     "output_type": "stream",
     "text": [
      "[1] 5.053171\n"
     ]
    }
   ],
   "source": [
    "modelGAM <- gam((House.Price.Unit.Area) ~ 1 +\n",
    "                (Trans.Date) + \n",
    "                s((House.Age)) +\n",
    "                s(Distance.MRT.Station) +\n",
    "                (Lat) +\n",
    "                (Num.Convenience.Stores),family=quasi(link = \"identity\", variance = \"mu\"), \n",
    "                data=train, optimizer=c(\"outer\", \"newton\"), drop.unused.levels=FALSE,\n",
    "                control=c(\n",
    "                gam.control(nthreads=1,irls.reg=0.0,epsilon = 5e-08, maxit = 2000, edge.correct=TRUE)))\n",
    "summary(modelGAM)\n",
    "print(mean(abs((modelGAM$residuals))))"
   ]
  },
  {
   "cell_type": "code",
   "execution_count": 862,
   "metadata": {
    "scrolled": false
   },
   "outputs": [
    {
     "data": {
      "image/png": "[encoded data removed]",
      "text/plain": [
       "plot without title"
      ]
     },
     "metadata": {},
     "output_type": "display_data"
    },
    {
     "name": "stdout",
     "output_type": "stream",
     "text": [
      "\n",
      "Method: GCV   Optimizer: outer newton\n",
      "full convergence after 6 iterations.\n",
      "Gradient range [9.102575e-10,4.796826e-08]\n",
      "(score 1.347083 & scale 1.350913).\n",
      "Hessian positive definite, eigenvalue range [0.002899553,0.007613603].\n",
      "Model rank =  22 / 22 \n",
      "\n",
      "Basis dimension (k) checking results. Low p-value (k-index<1) may\n",
      "indicate that k is too low, especially if edf is close to k'.\n",
      "\n",
      "                          k'  edf k-index p-value\n",
      "s(House.Age)            9.00 6.01    0.97    0.38\n",
      "s(Distance.MRT.Station) 9.00 4.37    0.94    0.20\n"
     ]
    },
    {
     "data": {
      "image/png": "[encoded data removed]",
      "text/plain": [
       "Plot with title \"Response vs. Fitted Values\""
      ]
     },
     "metadata": {},
     "output_type": "display_data"
    }
   ],
   "source": [
    "par(mfrow=c(1,2))\n",
    "plot(modelGAM,residuals=TRUE)\n",
    "gam.check(modelGAM)"
   ]
  },
  {
   "cell_type": "code",
   "execution_count": 863,
   "metadata": {},
   "outputs": [
    {
     "name": "stdout",
     "output_type": "stream",
     "text": [
      "[1] \"MAE:  5.5528064877687\"\n",
      "[1] \"MAPE:  0.1626488353114\"\n"
     ]
    },
    {
     "data": {
      "text/html": [
       "<table>\n",
       "<thead><tr><th></th><th scope=col>actual obs</th><th scope=col>predictions</th><th scope=col>abs error</th><th scope=col>abs % error</th></tr></thead>\n",
       "<tbody>\n",
       "\t<tr><th scope=row>2</th><td>42.2      </td><td>45.49378  </td><td>3.2937763 </td><td>0.07805157</td></tr>\n",
       "\t<tr><th scope=row>4</th><td>54.8      </td><td>47.06698  </td><td>7.7330240 </td><td>0.14111358</td></tr>\n",
       "\t<tr><th scope=row>5</th><td>43.1      </td><td>49.41692  </td><td>6.3169153 </td><td>0.14656416</td></tr>\n",
       "\t<tr><th scope=row>6</th><td>32.1      </td><td>28.16662  </td><td>3.9333837 </td><td>0.12253532</td></tr>\n",
       "\t<tr><th scope=row>7</th><td>40.3      </td><td>35.48396  </td><td>4.8160430 </td><td>0.11950479</td></tr>\n",
       "\t<tr><th scope=row>8</th><td>46.7      </td><td>47.35538  </td><td>0.6553782 </td><td>0.01403380</td></tr>\n",
       "</tbody>\n",
       "</table>\n"
      ],
      "text/latex": [
       "\\begin{tabular}{r|llll}\n",
       "  & actual obs & predictions & abs error & abs \\% error\\\\\n",
       "\\hline\n",
       "\t2 & 42.2       & 45.49378   & 3.2937763  & 0.07805157\\\\\n",
       "\t4 & 54.8       & 47.06698   & 7.7330240  & 0.14111358\\\\\n",
       "\t5 & 43.1       & 49.41692   & 6.3169153  & 0.14656416\\\\\n",
       "\t6 & 32.1       & 28.16662   & 3.9333837  & 0.12253532\\\\\n",
       "\t7 & 40.3       & 35.48396   & 4.8160430  & 0.11950479\\\\\n",
       "\t8 & 46.7       & 47.35538   & 0.6553782  & 0.01403380\\\\\n",
       "\\end{tabular}\n"
      ],
      "text/markdown": [
       "\n",
       "| <!--/--> | actual obs | predictions | abs error | abs % error | \n",
       "|---|---|---|---|---|---|\n",
       "| 2 | 42.2       | 45.49378   | 3.2937763  | 0.07805157 | \n",
       "| 4 | 54.8       | 47.06698   | 7.7330240  | 0.14111358 | \n",
       "| 5 | 43.1       | 49.41692   | 6.3169153  | 0.14656416 | \n",
       "| 6 | 32.1       | 28.16662   | 3.9333837  | 0.12253532 | \n",
       "| 7 | 40.3       | 35.48396   | 4.8160430  | 0.11950479 | \n",
       "| 8 | 46.7       | 47.35538   | 0.6553782  | 0.01403380 | \n",
       "\n",
       "\n"
      ],
      "text/plain": [
       "  actual obs predictions abs error abs % error\n",
       "2 42.2       45.49378    3.2937763 0.07805157 \n",
       "4 54.8       47.06698    7.7330240 0.14111358 \n",
       "5 43.1       49.41692    6.3169153 0.14656416 \n",
       "6 32.1       28.16662    3.9333837 0.12253532 \n",
       "7 40.3       35.48396    4.8160430 0.11950479 \n",
       "8 46.7       47.35538    0.6553782 0.01403380 "
      ]
     },
     "metadata": {},
     "output_type": "display_data"
    }
   ],
   "source": [
    "predictions4 <- (predict.gam(modelGAM, newdata=test,type = \"response\"))\n",
    "test_errors4 <- (test$House.Price.Unit.Area - predictions4)\n",
    "ae4 <- abs(test_errors4)\n",
    "ape4 <- abs(test_errors4)/test$House.Price.Unit.Area\n",
    "mae4 <- mean(ae4)\n",
    "mape4 <- mean(ape4)\n",
    "\n",
    "predictionDF4 <- cbind(\n",
    "    \"actual obs\"=test$House.Price.Unit.Area,\n",
    "    \"predictions\"=predictions4,\n",
    "    \"abs error\" = ae4,\n",
    "    \"abs % error\"= ape4)\n",
    "print(paste(\"MAE: \", mae4))\n",
    "print(paste(\"MAPE: \", mape4))\n",
    "(head(predictionDF4))"
   ]
  }
 ],
 "metadata": {
  "kernelspec": {
   "display_name": "R",
   "language": "R",
   "name": "ir"
  },
  "language_info": {
   "codemirror_mode": "r",
   "file_extension": ".r",
   "mimetype": "text/x-r-source",
   "name": "R",
   "pygments_lexer": "r",
   "version": "3.5.1"
  }
 },
 "nbformat": 4,
 "nbformat_minor": 2
}
