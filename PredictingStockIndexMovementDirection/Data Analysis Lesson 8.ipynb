{
 "cells": [
  {
   "cell_type": "markdown",
   "metadata": {},
   "source": [
    "# Jaleel Walter Henry Savoy\n",
    "## Data Analysis Assignment 8 -  Classification Methods"
   ]
  },
  {
   "cell_type": "markdown",
   "metadata": {},
   "source": [
    "## Introduction\n",
    "The objective of this report is to analyze weekly stock index return data to fit classification models that predict whether the weekly return direction will be positive or negative. There are many classification varieties, but for this report, there will be four classification methods fitted, explored, and compared (based on classification performance measures): logistic regression, linear discriminant analysis, quadratic discriminant analysis, and k-Nearest Neighbors classification. \n",
    "\n",
    "## Data Source\n",
    "The data set for this analysis will be the Weekly S&P Stock Market Data that is built into the ISLR library in R and it contains weekly percent return values, weekly shares volume, and weekly directional movement for the S&P 500 index; the data set has 1089 observations (weeks) and 9 variables. The data was collected from each week between 1990 and 2010, and the weekly percentage returns were calculated based on raw data collected from Yahoo Finance.\n",
    "\n",
    "Data set features:\n",
    "\n",
    "Variable Name | Description | Data type\n",
    "--- |  ---  | ---\n",
    "Year | Year the observation was recorded | Integer\n",
    "Lag1 | Return for 1 week ago (percentage) | Float\n",
    "Lag2 | Return for 2 weeks ago (percentage) | Float\n",
    "Lag3 | Return for 3 weeks ago (percentage) | Float\n",
    "Lag4 | Return for 4 weeks ago (percentage) | Float\n",
    "Lag5 | Return for 5 weeks ago (percentage) | Float\n",
    "Volume | Shares Volume (daily average) in billions | Float\n",
    "Today | Return for the current week (percentage) | Float\n",
    "Direction | Directional movement return for the week | Categorical (2 levels)\n",
    "\n",
    "Since the goal is to accurately predict a given week's direction, not the week's exact percent return, then the response would be the Direction feature and the predictors would be the lagged percent return features and the lagged volume feature.\n",
    "\n",
    "## Methods Overview\n",
    "### Logistic Regression\n",
    "Logistic regression is a discriminative modeling approach to classification. This method directly estimates the posterior, conditional probabilities of class membership given the values for predictor features. When using logistic regression, the assumption is that the posterior, conditional probabilities given a set of predictors is a nonlinear function of the predictor variables. This method learns a linear decision boundary.\n",
    "\n",
    "### Linear Discriminant Analysis\n",
    "In contrast to logistic regression, linear discriminant analysis is a generative modeling approach to classification that estimates the intra-class densities of the predictor variables given the classes, and that is then used in the Bayes formula to estimate the posterior, conditional probabilities of class membership given predictors. There are two main assumptions for this method; each class is assumed to have an identical covariance matrix and the intra-class densities are assumed to be normal (Gaussian) distributions. Often, this method performs similarly to logistic regression, but there are situations where it can outperform or underperform in comparison to logistic regression; the assumption of normally distributed intra-class densities can have a large impactful on linear discriminant analysis performance. This method learns a linear decision boundary.\n",
    "\n",
    "### Quadratic Discriminant Analysis\n",
    "Quadratic discriminant analysis is essentially the same as linear discriminant analysis, but instead of being able to only learn linear decision boundaries it can learn quadratic decision boundaries. The ability to learn quadratic decision boundaries allows quadratic discriminant analysis to be more flexible than logistic regression and linear discriminant analysis. Additionally, the quadratic discriminant analysis does not have the assumption of identical covariance matrices for each class. The increased flexibility offered by the method also results in a higher variance than the less flexible methods.\n",
    "\n",
    "### k-Nearest Neighbors Classification\n",
    "In contrast to the previous three methods, which were parametric, k-Nearest Neighbors classification is a non-parametric classification method that makes no assumptions about the functional form of the classifier. The model identifies a certain number of the closest observations, k, and it then it predicts the class membership based on the class that has the largest proportion in the k-sized neighborhood. The decision boundary can be smoothed by increasing the size of the neighborhood or be rougher by decreasing the size of the neighborhood; the method loses flexibility as k increases. This method is the most flexible of the four classification approaches explored in this report, but this has potential downsides. As mentioned before, increased flexibility results in higher variance than less flexible methods."
   ]
  },
  {
   "cell_type": "markdown",
   "metadata": {},
   "source": [
    "## Exploratory Data Analysis"
   ]
  },
  {
   "cell_type": "markdown",
   "metadata": {},
   "source": [
    "Before performing fitting and analyzing models, it is important to explore the data to understand the structure of the data and the relationships among the features. For this report, the data exploration was done with both numerical and graphical summaries of the data.\n",
    "\n",
    "Some key takeaways from the data summaries:\n",
    "* There are no notable correlations between the features; this observation is supported by the correlation matrix in the appendix.\n",
    "* The prior, unconditioned probability of the Down class of the response is about 44.44%, while the prior probability of the Up class of the response is about 55.56%; **Figure 1** of the appendix shows the corresponding barplot.\n",
    "* As noted earlier, the data goes from 1999 to 2010, with each observation being a separate week.\n",
    "* The majority of the predictor variables, five of the nine, are simple lags of the Today variable; the lags are from one to five weeks.\n",
    "* The weekly returns are approximately normally distributed with a minimum of -18.1950%, a maximum of 12.0260%, a mean of 0.15%, a median of 0.24% and a standard deviation of 2.36%; the first and third quartiles are -1.1540% and 1.4050%, respectively. The distribution is shown in **Figure 2** of the appendix.\n",
    "* The weekly returns percentages don't appear to exhibit any strong, non-random patterns; **Figure 4** and **Figure 5** show the raw weekly percentages and the smoothed weekly percentages, respectively, through time\n",
    "* The weekly daily average variable is consistently trending positively through time; this is clearly visible in both **Figure 6** and **Figure 7** of the appendix.\n",
    "\n",
    "**Note: The Volume feature had to be lagged to prevent signal leakage**"
   ]
  },
  {
   "cell_type": "markdown",
   "metadata": {},
   "source": [
    "## Classification Models\n",
    "For this section of the report, two models were fitted for each classification method; once with just the Lag2 feature and once with a subset of the features, including transformations of the features. The goal is to compare models and identify, which method performed best at accurately predicting whether the weekly percent return was positive or negative for a given week based on the lagged features and possible transformations.\n",
    "\n",
    "For the training and testing, all observations before 2009 were used for training and all observations after 2009 were used for testing, which resulted in a about 90% of the data being used for training and about 10% of the data being used for testing.\n",
    "\n",
    "**Note: The associated confusion matrix for each model is located in their respective appendix section**\n",
    "\n",
    "### Logistic Regression\n",
    "#### Model Fit with Only Lag2\n",
    "Predictor: Lag2\n",
    "\n",
    "Classification Measure | Test Performance\n",
    "--- | ---\n",
    "Correct Classification Rate |  0.625\n",
    "Misclassification Rate |  0.375\n",
    "Specificity |  0.209302325581395\n",
    "Sensitvity |  0.918032786885246\n",
    "Positive Predictive Value|  0.622222222222222\n",
    "Negative Predictive Value|  0.642857142857143\n",
    "\n",
    "#### Model Fit with Multiple Predictors\n",
    "Predictors: Lag2, Lag3, the interaction of Lag1 and Lag3, the interaction of Volume.Lag2 and Volume.Lag3, and the interaction of Volume.Lag2 and Volume.Lag5.\n",
    "\n",
    "Classification Measure | Test Performance\n",
    "--- | ---\n",
    "Correct Classification Rate |  0.615384615384615\n",
    "Misclassification Rate |  0.384615384615385\n",
    "Specificity |  0.604651162790698\n",
    "Sensitvity |  0.622950819672131\n",
    "Positive Predictive Value|  0.690909090909091\n",
    "Negative Predictive Value|  0.530612244897959\n",
    "\n",
    "### Linear Discriminant Analysis\n",
    "#### Model Fit with Only Lag2\n",
    "Predictor: Lag2\n",
    "\n",
    "Classification Measure | Test Performance\n",
    "--- | ---\n",
    "Correct Classification Rate |  0.625\n",
    "Misclassification Rate |  0.375\n",
    "Specificity |  0.209302325581395\n",
    "Sensitvity |  0.918032786885246\n",
    "Positive Predictive Value|  0.622222222222222\n",
    "Negative Predictive Value|  0.642857142857143\n",
    "\n",
    "#### Model Fit with Multiple Predictors\n",
    "Predictors: Lag2, Lag3, the interaction of Lag1 and Lag3, the interaction of Volume.Lag2 and Volume.Lag3, and the interaction of Volume.Lag2 and Volume.Lag5.\n",
    "\n",
    "Classification Measure | Test Performance\n",
    "--- | ---\n",
    "Correct Classification Rate |  0.625\n",
    "Misclassification Rate |  0.375\n",
    "Specificity |  0.604651162790698\n",
    "Sensitvity |  0.639344262295082\n",
    "Positive Predictive Value|  0.696428571428571\n",
    "Negative Predictive Value|  0.541666666666667\n",
    "\n",
    "### Quadratic Discriminant Analysis\n",
    "#### Model Fit with Only Lag2\n",
    "Predictor: Lag2\n",
    "\n",
    "Classification Measure | Test Performance\n",
    "--- | ---\n",
    "Correct Classification Rate |  0.586538461538462\n",
    "Misclassification Rate |  0.413461538461538\n",
    "Specificity |  0.00\n",
    "Sensitvity |  1.00\n",
    "Positive Predictive Value|  0.586538461538462\n",
    "Negative Predictive Value|  NaN\n",
    "\n",
    "#### Model Fit with Multiple Predictors\n",
    "Predictors: Lag2, the interaction of Lag1 and Lag3, the interaction of Lag1 and Lag5, Sequence, Volume, the interaction of Sequence and Volume, the difference between Lag1 and Lag3, and the difference between Lag1 and Lag3\n",
    "\n",
    "Classification Measure | Test Performance\n",
    "--- | ---\n",
    "Correct Classification Rate |  0.615384615384615\n",
    "Misclassification Rate |  0.384615384615385\n",
    "Specificity |  0.674418604651163\n",
    "Sensitvity |  0.573770491803279\n",
    "Positive Predictive Value|  0.714285714285714\n",
    "Negative Predictive Value|  0.527272727272727\n",
    "\n",
    "### k-Nearest Neighbors Classification\n",
    "#### Model Fit with Only Lag2\n",
    "Predictor: Lag2\n",
    "\n",
    "Classification Measure | Test Performance\n",
    "--- | ---\n",
    "Correct Classification Rate |  0.471153846153846\n",
    "Misclassification Rate |  0.528846153846154\n",
    "Specificity |  0.325581395348837\n",
    "Sensitvity |  0.573770491803279\n",
    "Positive Predictive Value|  0.546875\n",
    "Negative Predictive Value|  0.35\n",
    "\n",
    "#### Model Fit with Multiple Predictors\n",
    "Predictors: Volume.Lag4, Volume.Lag5, the squared-difference between Lag1 and Lag5, the difference between Lag1 and Lag2, and the difference between Lag1 and Lag4\n",
    "                    \n",
    "Classification Measure | Test Performance\n",
    "--- | ---\n",
    "Correct Classification Rate |  0.653846153846154\n",
    "Misclassification Rate |  0.346153846153846\n",
    "Specificity |  0.697674418604651\n",
    "Sensitvity |  0.622950819672131\n",
    "Positive Predictive Value|  0.745098039215686\n",
    "Negative Predictive Value|  0.566037735849057"
   ]
  },
  {
   "cell_type": "markdown",
   "metadata": {},
   "source": [
    "## Comparing Results\n",
    "The logistic regression and linear discriminant analysis models had nearly identical performance and results, which was expected because those two methods are very similar and differing only in fitting procedures. For the model using only the Lag2 predictor, both models chose the Up class about 86.54% of the time, which resulted in a substantial number of false positives. For the models with multiple predictors, both of the models used the following predictors: Lag2, Lag3, the interaction of Lag1 and Lag3, the interaction of Volume.Lag2 and Volume.Lag3, and the interaction of Volume.Lag2 and Volume.Lag5. For the logistic regression model, the misclassification rate increased and there was an increased number of false negatives, but the model was able to increase specificity from about 21% to about 60.50%. The linear discriminant analysis model performed slightly better than the logistic regression model; the linear discriminant analysis model had a lower misclassification rate, a higher specificity measure, a higher sensitivity measure, a higher positive predictive value, and a higher negative predictive value.\n",
    "\n",
    "The quadratic discriminant analysis model with only the Lag2 predictor performed very poorly. The model just predicted all observations belonged to the Up class, which was clearly not true. This model has essentially no value since it cannot predict the Down class on the test observations. A second quadratic discriminant analysis model was fitted using the following predictors: Lag2, the interaction of Lag1 and Lag3, the interaction of Lag1 and Lag5, Sequence, Volume, the interaction of Sequence and Volume, the difference between Lag1 and Lag3, and the difference between Lag1 and Lag3. This model had performance in line with the logistic regression and linear discriminant analysis model; the main difference is that the specificity was higher and the sensitivity was lower, which indicates that the model was better at handling Down class predictions but worse at Up class predictions.\n",
    "\n",
    "The k-Nearest Neighbors classification model with Lag2 as the sole predictor performed poorly. The model had a larger misclassification rate than a correct classification rate on test data, it had a very poor specificity measure, and it had a poor negative predictive value. The second model was fit with the following predictors: Volume.Lag4, Volume.Lag5, the squared-difference between Lag1 and Lag5, the difference between Lag1 and Lag2, and the difference between Lag1 and Lag4. This model was a drastic improvement over the previous one. This model decreased the misclassification rate by about 18%, more than doubled the specificity measure, increased the sensitivity measure, increased the positive predictive value by about 20%, and increased the negative predictive value by about 21%.\n",
    "\n",
    "Overall, the second k-Nearest Neighbors model performed the best, which is supported by its classification measures; it has the smallest misclassification rate and it is able to fairly accurately predict both the Up and Down classes. The runner-up model would be the second quadratic discriminant analysis model. In regards to models fitted using only the Lag2 predictor, the best models for that were the logistic regression and the linear discriminant analysis model."
   ]
  },
  {
   "cell_type": "markdown",
   "metadata": {},
   "source": [
    "## Conclusions\n",
    "The second k-Nearest Neighbors classification model and the second quadratic discriminant analysis model would both be suitable models to address the research focus of this report, which is to accurately predict the weekly movements of the S&P 500 index lagged percentage returns and lagged trade volumes. There is clearly room for improvement across all of the models. Additionally, more features would also be useful; using only lagged values of two features is pretty restrictive."
   ]
  },
  {
   "cell_type": "markdown",
   "metadata": {},
   "source": [
    "## Citations"
   ]
  },
  {
   "cell_type": "markdown",
   "metadata": {},
   "source": [
    "Hadley Wickham (2017). tidyverse: Easily Install and Load the 'Tidyverse'. R package version 1.2.1. https://CRAN.R-project.org/package=tidyverse\n",
    "\n",
    "James, G., Witten, D., Hastie, T., and Tibshirani, R (2017). ISLR: Data for an Introduction to Statistical Learning with Applications in R. R package version 1.2. https://CRAN.R-project.org/package=ISLR\n",
    "\n",
    "Venables, W. N. & Ripley, B. D. (2002) Modern Applied Statistics with S. Fourth Edition. Springer, New York. ISBN 0-387-95457-0"
   ]
  },
  {
   "cell_type": "markdown",
   "metadata": {},
   "source": [
    "## Appendix"
   ]
  },
  {
   "cell_type": "code",
   "execution_count": 71,
   "metadata": {
    "scrolled": false
   },
   "outputs": [
    {
     "data": {
      "text/plain": [
       "      Year           Lag1               Lag2               Lag3         \n",
       " Min.   :1990   Min.   :-18.1950   Min.   :-18.1950   Min.   :-18.1950  \n",
       " 1st Qu.:1995   1st Qu.: -1.1540   1st Qu.: -1.1540   1st Qu.: -1.1580  \n",
       " Median :2000   Median :  0.2410   Median :  0.2410   Median :  0.2410  \n",
       " Mean   :2000   Mean   :  0.1506   Mean   :  0.1511   Mean   :  0.1472  \n",
       " 3rd Qu.:2005   3rd Qu.:  1.4050   3rd Qu.:  1.4090   3rd Qu.:  1.4090  \n",
       " Max.   :2010   Max.   : 12.0260   Max.   : 12.0260   Max.   : 12.0260  \n",
       "      Lag4               Lag5              Volume            Today         \n",
       " Min.   :-18.1950   Min.   :-18.1950   Min.   :0.08747   Min.   :-18.1950  \n",
       " 1st Qu.: -1.1580   1st Qu.: -1.1660   1st Qu.:0.33202   1st Qu.: -1.1540  \n",
       " Median :  0.2380   Median :  0.2340   Median :1.00268   Median :  0.2410  \n",
       " Mean   :  0.1458   Mean   :  0.1399   Mean   :1.57462   Mean   :  0.1499  \n",
       " 3rd Qu.:  1.4090   3rd Qu.:  1.4050   3rd Qu.:2.05373   3rd Qu.:  1.4050  \n",
       " Max.   : 12.0260   Max.   : 12.0260   Max.   :9.32821   Max.   : 12.0260  \n",
       " Direction \n",
       " Down:484  \n",
       " Up  :605  \n",
       "           \n",
       "           \n",
       "           \n",
       "           "
      ]
     },
     "metadata": {},
     "output_type": "display_data"
    },
    {
     "data": {
      "text/html": [
       "<table>\n",
       "<thead><tr><th scope=col>Year</th><th scope=col>Lag1</th><th scope=col>Lag2</th><th scope=col>Lag3</th><th scope=col>Lag4</th><th scope=col>Lag5</th><th scope=col>Volume</th><th scope=col>Today</th><th scope=col>Direction</th></tr></thead>\n",
       "<tbody>\n",
       "\t<tr><td>1990     </td><td> 0.816   </td><td> 1.572   </td><td>-3.936   </td><td>-0.229   </td><td>-3.484   </td><td>0.1549760</td><td>-0.270   </td><td>Down     </td></tr>\n",
       "\t<tr><td>1990     </td><td>-0.270   </td><td> 0.816   </td><td> 1.572   </td><td>-3.936   </td><td>-0.229   </td><td>0.1485740</td><td>-2.576   </td><td>Down     </td></tr>\n",
       "\t<tr><td>1990     </td><td>-2.576   </td><td>-0.270   </td><td> 0.816   </td><td> 1.572   </td><td>-3.936   </td><td>0.1598375</td><td> 3.514   </td><td>Up       </td></tr>\n",
       "\t<tr><td>1990     </td><td> 3.514   </td><td>-2.576   </td><td>-0.270   </td><td> 0.816   </td><td> 1.572   </td><td>0.1616300</td><td> 0.712   </td><td>Up       </td></tr>\n",
       "\t<tr><td>1990     </td><td> 0.712   </td><td> 3.514   </td><td>-2.576   </td><td>-0.270   </td><td> 0.816   </td><td>0.1537280</td><td> 1.178   </td><td>Up       </td></tr>\n",
       "</tbody>\n",
       "</table>\n"
      ],
      "text/latex": [
       "\\begin{tabular}{r|lllllllll}\n",
       " Year & Lag1 & Lag2 & Lag3 & Lag4 & Lag5 & Volume & Today & Direction\\\\\n",
       "\\hline\n",
       "\t 1990      &  0.816    &  1.572    & -3.936    & -0.229    & -3.484    & 0.1549760 & -0.270    & Down     \\\\\n",
       "\t 1990      & -0.270    &  0.816    &  1.572    & -3.936    & -0.229    & 0.1485740 & -2.576    & Down     \\\\\n",
       "\t 1990      & -2.576    & -0.270    &  0.816    &  1.572    & -3.936    & 0.1598375 &  3.514    & Up       \\\\\n",
       "\t 1990      &  3.514    & -2.576    & -0.270    &  0.816    &  1.572    & 0.1616300 &  0.712    & Up       \\\\\n",
       "\t 1990      &  0.712    &  3.514    & -2.576    & -0.270    &  0.816    & 0.1537280 &  1.178    & Up       \\\\\n",
       "\\end{tabular}\n"
      ],
      "text/markdown": [
       "\n",
       "Year | Lag1 | Lag2 | Lag3 | Lag4 | Lag5 | Volume | Today | Direction | \n",
       "|---|---|---|---|---|\n",
       "| 1990      |  0.816    |  1.572    | -3.936    | -0.229    | -3.484    | 0.1549760 | -0.270    | Down      | \n",
       "| 1990      | -0.270    |  0.816    |  1.572    | -3.936    | -0.229    | 0.1485740 | -2.576    | Down      | \n",
       "| 1990      | -2.576    | -0.270    |  0.816    |  1.572    | -3.936    | 0.1598375 |  3.514    | Up        | \n",
       "| 1990      |  3.514    | -2.576    | -0.270    |  0.816    |  1.572    | 0.1616300 |  0.712    | Up        | \n",
       "| 1990      |  0.712    |  3.514    | -2.576    | -0.270    |  0.816    | 0.1537280 |  1.178    | Up        | \n",
       "\n",
       "\n"
      ],
      "text/plain": [
       "  Year Lag1   Lag2   Lag3   Lag4   Lag5   Volume    Today  Direction\n",
       "1 1990  0.816  1.572 -3.936 -0.229 -3.484 0.1549760 -0.270 Down     \n",
       "2 1990 -0.270  0.816  1.572 -3.936 -0.229 0.1485740 -2.576 Down     \n",
       "3 1990 -2.576 -0.270  0.816  1.572 -3.936 0.1598375  3.514 Up       \n",
       "4 1990  3.514 -2.576 -0.270  0.816  1.572 0.1616300  0.712 Up       \n",
       "5 1990  0.712  3.514 -2.576 -0.270  0.816 0.1537280  1.178 Up       "
      ]
     },
     "metadata": {},
     "output_type": "display_data"
    },
    {
     "data": {
      "text/html": [
       "<table>\n",
       "<thead><tr><th></th><th scope=col>Year</th><th scope=col>Lag1</th><th scope=col>Lag2</th><th scope=col>Lag3</th><th scope=col>Lag4</th><th scope=col>Lag5</th><th scope=col>Volume</th><th scope=col>Today</th><th scope=col>Direction</th></tr></thead>\n",
       "<tbody>\n",
       "\t<tr><th scope=row>314</th><td>1996    </td><td> 3.229  </td><td> 2.288  </td><td> 1.600  </td><td> 1.665  </td><td>-2.416  </td><td>0.451808</td><td>-1.278  </td><td>Down    </td></tr>\n",
       "\t<tr><th scope=row>858</th><td>2006    </td><td> 0.331  </td><td>-2.314  </td><td>-0.372  </td><td> 2.065  </td><td>-0.563  </td><td>2.475962</td><td> 3.085  </td><td>Up      </td></tr>\n",
       "\t<tr><th scope=row>445</th><td>1998    </td><td>-2.451  </td><td>-2.786  </td><td>-1.765  </td><td>-3.872  </td><td> 1.926  </td><td>0.674002</td><td> 1.740  </td><td>Up      </td></tr>\n",
       "\t<tr><th scope=row>959</th><td>2008    </td><td>-3.001  </td><td>-3.096  </td><td>-0.048  </td><td>-2.835  </td><td> 1.777  </td><td>5.031320</td><td>-1.211  </td><td>Down    </td></tr>\n",
       "\t<tr><th scope=row>1021</th><td>2009    </td><td>-1.218  </td><td> 0.273  </td><td> 2.195  </td><td>-0.632  </td><td> 2.329  </td><td>5.286260</td><td> 2.591  </td><td>Up      </td></tr>\n",
       "</tbody>\n",
       "</table>\n"
      ],
      "text/latex": [
       "\\begin{tabular}{r|lllllllll}\n",
       "  & Year & Lag1 & Lag2 & Lag3 & Lag4 & Lag5 & Volume & Today & Direction\\\\\n",
       "\\hline\n",
       "\t314 & 1996     &  3.229   &  2.288   &  1.600   &  1.665   & -2.416   & 0.451808 & -1.278   & Down    \\\\\n",
       "\t858 & 2006     &  0.331   & -2.314   & -0.372   &  2.065   & -0.563   & 2.475962 &  3.085   & Up      \\\\\n",
       "\t445 & 1998     & -2.451   & -2.786   & -1.765   & -3.872   &  1.926   & 0.674002 &  1.740   & Up      \\\\\n",
       "\t959 & 2008     & -3.001   & -3.096   & -0.048   & -2.835   &  1.777   & 5.031320 & -1.211   & Down    \\\\\n",
       "\t1021 & 2009     & -1.218   &  0.273   &  2.195   & -0.632   &  2.329   & 5.286260 &  2.591   & Up      \\\\\n",
       "\\end{tabular}\n"
      ],
      "text/markdown": [
       "\n",
       "| <!--/--> | Year | Lag1 | Lag2 | Lag3 | Lag4 | Lag5 | Volume | Today | Direction | \n",
       "|---|---|---|---|---|\n",
       "| 314 | 1996     |  3.229   |  2.288   |  1.600   |  1.665   | -2.416   | 0.451808 | -1.278   | Down     | \n",
       "| 858 | 2006     |  0.331   | -2.314   | -0.372   |  2.065   | -0.563   | 2.475962 |  3.085   | Up       | \n",
       "| 445 | 1998     | -2.451   | -2.786   | -1.765   | -3.872   |  1.926   | 0.674002 |  1.740   | Up       | \n",
       "| 959 | 2008     | -3.001   | -3.096   | -0.048   | -2.835   |  1.777   | 5.031320 | -1.211   | Down     | \n",
       "| 1021 | 2009     | -1.218   |  0.273   |  2.195   | -0.632   |  2.329   | 5.286260 |  2.591   | Up       | \n",
       "\n",
       "\n"
      ],
      "text/plain": [
       "     Year Lag1   Lag2   Lag3   Lag4   Lag5   Volume   Today  Direction\n",
       "314  1996  3.229  2.288  1.600  1.665 -2.416 0.451808 -1.278 Down     \n",
       "858  2006  0.331 -2.314 -0.372  2.065 -0.563 2.475962  3.085 Up       \n",
       "445  1998 -2.451 -2.786 -1.765 -3.872  1.926 0.674002  1.740 Up       \n",
       "959  2008 -3.001 -3.096 -0.048 -2.835  1.777 5.031320 -1.211 Down     \n",
       "1021 2009 -1.218  0.273  2.195 -0.632  2.329 5.286260  2.591 Up       "
      ]
     },
     "metadata": {},
     "output_type": "display_data"
    },
    {
     "data": {
      "text/html": [
       "<table>\n",
       "<thead><tr><th></th><th scope=col>Year</th><th scope=col>Lag1</th><th scope=col>Lag2</th><th scope=col>Lag3</th><th scope=col>Lag4</th><th scope=col>Lag5</th><th scope=col>Volume</th><th scope=col>Today</th><th scope=col>Direction</th></tr></thead>\n",
       "<tbody>\n",
       "\t<tr><th scope=row>1085</th><td>2010    </td><td>-0.861  </td><td> 0.043  </td><td>-2.173  </td><td> 3.599  </td><td> 0.015  </td><td>3.205160</td><td>2.969   </td><td>Up      </td></tr>\n",
       "\t<tr><th scope=row>1086</th><td>2010    </td><td> 2.969  </td><td>-0.861  </td><td> 0.043  </td><td>-2.173  </td><td> 3.599  </td><td>4.242568</td><td>1.281   </td><td>Up      </td></tr>\n",
       "\t<tr><th scope=row>1087</th><td>2010    </td><td> 1.281  </td><td> 2.969  </td><td>-0.861  </td><td> 0.043  </td><td>-2.173  </td><td>4.835082</td><td>0.283   </td><td>Up      </td></tr>\n",
       "\t<tr><th scope=row>1088</th><td>2010    </td><td> 0.283  </td><td> 1.281  </td><td> 2.969  </td><td>-0.861  </td><td> 0.043  </td><td>4.454044</td><td>1.034   </td><td>Up      </td></tr>\n",
       "\t<tr><th scope=row>1089</th><td>2010    </td><td> 1.034  </td><td> 0.283  </td><td> 1.281  </td><td> 2.969  </td><td>-0.861  </td><td>2.707105</td><td>0.069   </td><td>Up      </td></tr>\n",
       "</tbody>\n",
       "</table>\n"
      ],
      "text/latex": [
       "\\begin{tabular}{r|lllllllll}\n",
       "  & Year & Lag1 & Lag2 & Lag3 & Lag4 & Lag5 & Volume & Today & Direction\\\\\n",
       "\\hline\n",
       "\t1085 & 2010     & -0.861   &  0.043   & -2.173   &  3.599   &  0.015   & 3.205160 & 2.969    & Up      \\\\\n",
       "\t1086 & 2010     &  2.969   & -0.861   &  0.043   & -2.173   &  3.599   & 4.242568 & 1.281    & Up      \\\\\n",
       "\t1087 & 2010     &  1.281   &  2.969   & -0.861   &  0.043   & -2.173   & 4.835082 & 0.283    & Up      \\\\\n",
       "\t1088 & 2010     &  0.283   &  1.281   &  2.969   & -0.861   &  0.043   & 4.454044 & 1.034    & Up      \\\\\n",
       "\t1089 & 2010     &  1.034   &  0.283   &  1.281   &  2.969   & -0.861   & 2.707105 & 0.069    & Up      \\\\\n",
       "\\end{tabular}\n"
      ],
      "text/markdown": [
       "\n",
       "| <!--/--> | Year | Lag1 | Lag2 | Lag3 | Lag4 | Lag5 | Volume | Today | Direction | \n",
       "|---|---|---|---|---|\n",
       "| 1085 | 2010     | -0.861   |  0.043   | -2.173   |  3.599   |  0.015   | 3.205160 | 2.969    | Up       | \n",
       "| 1086 | 2010     |  2.969   | -0.861   |  0.043   | -2.173   |  3.599   | 4.242568 | 1.281    | Up       | \n",
       "| 1087 | 2010     |  1.281   |  2.969   | -0.861   |  0.043   | -2.173   | 4.835082 | 0.283    | Up       | \n",
       "| 1088 | 2010     |  0.283   |  1.281   |  2.969   | -0.861   |  0.043   | 4.454044 | 1.034    | Up       | \n",
       "| 1089 | 2010     |  1.034   |  0.283   |  1.281   |  2.969   | -0.861   | 2.707105 | 0.069    | Up       | \n",
       "\n",
       "\n"
      ],
      "text/plain": [
       "     Year Lag1   Lag2   Lag3   Lag4   Lag5   Volume   Today Direction\n",
       "1085 2010 -0.861  0.043 -2.173  3.599  0.015 3.205160 2.969 Up       \n",
       "1086 2010  2.969 -0.861  0.043 -2.173  3.599 4.242568 1.281 Up       \n",
       "1087 2010  1.281  2.969 -0.861  0.043 -2.173 4.835082 0.283 Up       \n",
       "1088 2010  0.283  1.281  2.969 -0.861  0.043 4.454044 1.034 Up       \n",
       "1089 2010  1.034  0.283  1.281  2.969 -0.861 2.707105 0.069 Up       "
      ]
     },
     "metadata": {},
     "output_type": "display_data"
    },
    {
     "data": {
      "text/html": [
       "<table>\n",
       "<thead><tr><th></th><th scope=col>Lag1</th><th scope=col>Lag2</th><th scope=col>Lag3</th><th scope=col>Lag4</th><th scope=col>Lag5</th><th scope=col>Volume</th><th scope=col>Volume.Lag2</th><th scope=col>Volume.Lag3</th><th scope=col>Volume.Lag4</th><th scope=col>Volume.Lag5</th><th scope=col>Sequence</th></tr></thead>\n",
       "<tbody>\n",
       "\t<tr><th scope=row>Lag1</th><td> 1.000000000</td><td>-0.07485305 </td><td> 0.05863568 </td><td>-0.07127388 </td><td>-0.008183096</td><td>-0.03329107 </td><td>-0.03413513 </td><td>-0.02967397 </td><td>-0.04323685 </td><td>-0.01155594 </td><td>-0.03157687 </td></tr>\n",
       "\t<tr><th scope=row>Lag2</th><td>-0.074853051</td><td> 1.00000000 </td><td>-0.07572091 </td><td> 0.05838153 </td><td>-0.072499482</td><td>-0.06568041 </td><td>-0.03282026 </td><td>-0.03522141 </td><td>-0.03052296 </td><td>-0.04431387 </td><td>-0.03312914 </td></tr>\n",
       "\t<tr><th scope=row>Lag3</th><td> 0.058635682</td><td>-0.07572091 </td><td> 1.00000000 </td><td>-0.07539587 </td><td> 0.060657175</td><td>-0.08393055 </td><td>-0.03304462 </td><td>-0.03140647 </td><td>-0.03375179 </td><td>-0.02911273 </td><td>-0.03041998 </td></tr>\n",
       "\t<tr><th scope=row>Lag4</th><td>-0.071273876</td><td> 0.05838153 </td><td>-0.07539587 </td><td> 1.00000000 </td><td>-0.075675027</td><td>-0.06944146 </td><td>-0.06507341 </td><td>-0.03364168 </td><td>-0.03170804 </td><td>-0.03433361 </td><td>-0.03093453 </td></tr>\n",
       "\t<tr><th scope=row>Lag5</th><td>-0.008183096</td><td>-0.07249948 </td><td> 0.06065717 </td><td>-0.07567503 </td><td> 1.000000000</td><td>-0.06045949 </td><td>-0.08553796 </td><td>-0.06553855 </td><td>-0.03339813 </td><td>-0.03212810 </td><td>-0.03038177 </td></tr>\n",
       "\t<tr><th scope=row>Volume</th><td>-0.033291072</td><td>-0.06568041 </td><td>-0.08393055 </td><td>-0.06944146 </td><td>-0.060459489</td><td> 1.00000000 </td><td> 0.96061620 </td><td> 0.95342406 </td><td> 0.94712851 </td><td> 0.94454681 </td><td> 0.84234781 </td></tr>\n",
       "\t<tr><th scope=row>Volume.Lag2</th><td>-0.034135128</td><td>-0.03282026 </td><td>-0.03304462 </td><td>-0.06507341 </td><td>-0.085537964</td><td> 0.96061620 </td><td> 1.00000000 </td><td> 0.97438669 </td><td> 0.96092573 </td><td> 0.95359475 </td><td> 0.84141818 </td></tr>\n",
       "\t<tr><th scope=row>Volume.Lag3</th><td>-0.029673971</td><td>-0.03522141 </td><td>-0.03140647 </td><td>-0.03364168 </td><td>-0.065538552</td><td> 0.95342406 </td><td> 0.97438669 </td><td> 1.00000000 </td><td> 0.97453917 </td><td> 0.96086774 </td><td> 0.84100812 </td></tr>\n",
       "\t<tr><th scope=row>Volume.Lag4</th><td>-0.043236848</td><td>-0.03052296 </td><td>-0.03375179 </td><td>-0.03170804 </td><td>-0.033398131</td><td> 0.94712851 </td><td> 0.96092573 </td><td> 0.97453917 </td><td> 1.00000000 </td><td> 0.97467457 </td><td> 0.84096305 </td></tr>\n",
       "\t<tr><th scope=row>Volume.Lag5</th><td>-0.011555941</td><td>-0.04431387 </td><td>-0.02911273 </td><td>-0.03433361 </td><td>-0.032128105</td><td> 0.94454681 </td><td> 0.95359475 </td><td> 0.96086774 </td><td> 0.97467457 </td><td> 1.00000000 </td><td> 0.84056221 </td></tr>\n",
       "\t<tr><th scope=row>Sequence</th><td>-0.031576872</td><td>-0.03312914 </td><td>-0.03041998 </td><td>-0.03093453 </td><td>-0.030381769</td><td> 0.84234781 </td><td> 0.84141818 </td><td> 0.84100812 </td><td> 0.84096305 </td><td> 0.84056221 </td><td> 1.00000000 </td></tr>\n",
       "</tbody>\n",
       "</table>\n"
      ],
      "text/latex": [
       "\\begin{tabular}{r|lllllllllll}\n",
       "  & Lag1 & Lag2 & Lag3 & Lag4 & Lag5 & Volume & Volume.Lag2 & Volume.Lag3 & Volume.Lag4 & Volume.Lag5 & Sequence\\\\\n",
       "\\hline\n",
       "\tLag1 &  1.000000000 & -0.07485305  &  0.05863568  & -0.07127388  & -0.008183096 & -0.03329107  & -0.03413513  & -0.02967397  & -0.04323685  & -0.01155594  & -0.03157687 \\\\\n",
       "\tLag2 & -0.074853051 &  1.00000000  & -0.07572091  &  0.05838153  & -0.072499482 & -0.06568041  & -0.03282026  & -0.03522141  & -0.03052296  & -0.04431387  & -0.03312914 \\\\\n",
       "\tLag3 &  0.058635682 & -0.07572091  &  1.00000000  & -0.07539587  &  0.060657175 & -0.08393055  & -0.03304462  & -0.03140647  & -0.03375179  & -0.02911273  & -0.03041998 \\\\\n",
       "\tLag4 & -0.071273876 &  0.05838153  & -0.07539587  &  1.00000000  & -0.075675027 & -0.06944146  & -0.06507341  & -0.03364168  & -0.03170804  & -0.03433361  & -0.03093453 \\\\\n",
       "\tLag5 & -0.008183096 & -0.07249948  &  0.06065717  & -0.07567503  &  1.000000000 & -0.06045949  & -0.08553796  & -0.06553855  & -0.03339813  & -0.03212810  & -0.03038177 \\\\\n",
       "\tVolume & -0.033291072 & -0.06568041  & -0.08393055  & -0.06944146  & -0.060459489 &  1.00000000  &  0.96061620  &  0.95342406  &  0.94712851  &  0.94454681  &  0.84234781 \\\\\n",
       "\tVolume.Lag2 & -0.034135128 & -0.03282026  & -0.03304462  & -0.06507341  & -0.085537964 &  0.96061620  &  1.00000000  &  0.97438669  &  0.96092573  &  0.95359475  &  0.84141818 \\\\\n",
       "\tVolume.Lag3 & -0.029673971 & -0.03522141  & -0.03140647  & -0.03364168  & -0.065538552 &  0.95342406  &  0.97438669  &  1.00000000  &  0.97453917  &  0.96086774  &  0.84100812 \\\\\n",
       "\tVolume.Lag4 & -0.043236848 & -0.03052296  & -0.03375179  & -0.03170804  & -0.033398131 &  0.94712851  &  0.96092573  &  0.97453917  &  1.00000000  &  0.97467457  &  0.84096305 \\\\\n",
       "\tVolume.Lag5 & -0.011555941 & -0.04431387  & -0.02911273  & -0.03433361  & -0.032128105 &  0.94454681  &  0.95359475  &  0.96086774  &  0.97467457  &  1.00000000  &  0.84056221 \\\\\n",
       "\tSequence & -0.031576872 & -0.03312914  & -0.03041998  & -0.03093453  & -0.030381769 &  0.84234781  &  0.84141818  &  0.84100812  &  0.84096305  &  0.84056221  &  1.00000000 \\\\\n",
       "\\end{tabular}\n"
      ],
      "text/markdown": [
       "\n",
       "| <!--/--> | Lag1 | Lag2 | Lag3 | Lag4 | Lag5 | Volume | Volume.Lag2 | Volume.Lag3 | Volume.Lag4 | Volume.Lag5 | Sequence | \n",
       "|---|---|---|---|---|---|---|---|---|---|---|\n",
       "| Lag1 |  1.000000000 | -0.07485305  |  0.05863568  | -0.07127388  | -0.008183096 | -0.03329107  | -0.03413513  | -0.02967397  | -0.04323685  | -0.01155594  | -0.03157687  | \n",
       "| Lag2 | -0.074853051 |  1.00000000  | -0.07572091  |  0.05838153  | -0.072499482 | -0.06568041  | -0.03282026  | -0.03522141  | -0.03052296  | -0.04431387  | -0.03312914  | \n",
       "| Lag3 |  0.058635682 | -0.07572091  |  1.00000000  | -0.07539587  |  0.060657175 | -0.08393055  | -0.03304462  | -0.03140647  | -0.03375179  | -0.02911273  | -0.03041998  | \n",
       "| Lag4 | -0.071273876 |  0.05838153  | -0.07539587  |  1.00000000  | -0.075675027 | -0.06944146  | -0.06507341  | -0.03364168  | -0.03170804  | -0.03433361  | -0.03093453  | \n",
       "| Lag5 | -0.008183096 | -0.07249948  |  0.06065717  | -0.07567503  |  1.000000000 | -0.06045949  | -0.08553796  | -0.06553855  | -0.03339813  | -0.03212810  | -0.03038177  | \n",
       "| Volume | -0.033291072 | -0.06568041  | -0.08393055  | -0.06944146  | -0.060459489 |  1.00000000  |  0.96061620  |  0.95342406  |  0.94712851  |  0.94454681  |  0.84234781  | \n",
       "| Volume.Lag2 | -0.034135128 | -0.03282026  | -0.03304462  | -0.06507341  | -0.085537964 |  0.96061620  |  1.00000000  |  0.97438669  |  0.96092573  |  0.95359475  |  0.84141818  | \n",
       "| Volume.Lag3 | -0.029673971 | -0.03522141  | -0.03140647  | -0.03364168  | -0.065538552 |  0.95342406  |  0.97438669  |  1.00000000  |  0.97453917  |  0.96086774  |  0.84100812  | \n",
       "| Volume.Lag4 | -0.043236848 | -0.03052296  | -0.03375179  | -0.03170804  | -0.033398131 |  0.94712851  |  0.96092573  |  0.97453917  |  1.00000000  |  0.97467457  |  0.84096305  | \n",
       "| Volume.Lag5 | -0.011555941 | -0.04431387  | -0.02911273  | -0.03433361  | -0.032128105 |  0.94454681  |  0.95359475  |  0.96086774  |  0.97467457  |  1.00000000  |  0.84056221  | \n",
       "| Sequence | -0.031576872 | -0.03312914  | -0.03041998  | -0.03093453  | -0.030381769 |  0.84234781  |  0.84141818  |  0.84100812  |  0.84096305  |  0.84056221  |  1.00000000  | \n",
       "\n",
       "\n"
      ],
      "text/plain": [
       "            Lag1         Lag2        Lag3        Lag4        Lag5        \n",
       "Lag1         1.000000000 -0.07485305  0.05863568 -0.07127388 -0.008183096\n",
       "Lag2        -0.074853051  1.00000000 -0.07572091  0.05838153 -0.072499482\n",
       "Lag3         0.058635682 -0.07572091  1.00000000 -0.07539587  0.060657175\n",
       "Lag4        -0.071273876  0.05838153 -0.07539587  1.00000000 -0.075675027\n",
       "Lag5        -0.008183096 -0.07249948  0.06065717 -0.07567503  1.000000000\n",
       "Volume      -0.033291072 -0.06568041 -0.08393055 -0.06944146 -0.060459489\n",
       "Volume.Lag2 -0.034135128 -0.03282026 -0.03304462 -0.06507341 -0.085537964\n",
       "Volume.Lag3 -0.029673971 -0.03522141 -0.03140647 -0.03364168 -0.065538552\n",
       "Volume.Lag4 -0.043236848 -0.03052296 -0.03375179 -0.03170804 -0.033398131\n",
       "Volume.Lag5 -0.011555941 -0.04431387 -0.02911273 -0.03433361 -0.032128105\n",
       "Sequence    -0.031576872 -0.03312914 -0.03041998 -0.03093453 -0.030381769\n",
       "            Volume      Volume.Lag2 Volume.Lag3 Volume.Lag4 Volume.Lag5\n",
       "Lag1        -0.03329107 -0.03413513 -0.02967397 -0.04323685 -0.01155594\n",
       "Lag2        -0.06568041 -0.03282026 -0.03522141 -0.03052296 -0.04431387\n",
       "Lag3        -0.08393055 -0.03304462 -0.03140647 -0.03375179 -0.02911273\n",
       "Lag4        -0.06944146 -0.06507341 -0.03364168 -0.03170804 -0.03433361\n",
       "Lag5        -0.06045949 -0.08553796 -0.06553855 -0.03339813 -0.03212810\n",
       "Volume       1.00000000  0.96061620  0.95342406  0.94712851  0.94454681\n",
       "Volume.Lag2  0.96061620  1.00000000  0.97438669  0.96092573  0.95359475\n",
       "Volume.Lag3  0.95342406  0.97438669  1.00000000  0.97453917  0.96086774\n",
       "Volume.Lag4  0.94712851  0.96092573  0.97453917  1.00000000  0.97467457\n",
       "Volume.Lag5  0.94454681  0.95359475  0.96086774  0.97467457  1.00000000\n",
       "Sequence     0.84234781  0.84141818  0.84100812  0.84096305  0.84056221\n",
       "            Sequence   \n",
       "Lag1        -0.03157687\n",
       "Lag2        -0.03312914\n",
       "Lag3        -0.03041998\n",
       "Lag4        -0.03093453\n",
       "Lag5        -0.03038177\n",
       "Volume       0.84234781\n",
       "Volume.Lag2  0.84141818\n",
       "Volume.Lag3  0.84100812\n",
       "Volume.Lag4  0.84096305\n",
       "Volume.Lag5  0.84056221\n",
       "Sequence     1.00000000"
      ]
     },
     "metadata": {},
     "output_type": "display_data"
    },
    {
     "data": {
      "text/plain": [
       "\n",
       "Down   Up \n",
       " 484  605 "
      ]
     },
     "metadata": {},
     "output_type": "display_data"
    },
    {
     "data": {},
     "metadata": {},
     "output_type": "display_data"
    },
    {
     "data": {
      "image/png": "[encoded data removed]",
      "text/plain": [
       "plot without title"
      ]
     },
     "metadata": {},
     "output_type": "display_data"
    },
    {
     "data": {},
     "metadata": {},
     "output_type": "display_data"
    },
    {
     "data": {
      "image/png": "[encoded data removed]",
      "text/plain": [
       "Plot with title \"Histogram of Daily Average Volume by Week\""
      ]
     },
     "metadata": {},
     "output_type": "display_data"
    },
    {
     "name": "stderr",
     "output_type": "stream",
     "text": [
      "`geom_smooth()` using method = 'gam' and formula 'y ~ s(x, bs = \"cs\")'\n"
     ]
    },
    {
     "data": {},
     "metadata": {},
     "output_type": "display_data"
    },
    {
     "data": {
      "image/png": "[encoded data removed]",
      "text/plain": [
       "plot without title"
      ]
     },
     "metadata": {},
     "output_type": "display_data"
    },
    {
     "data": {},
     "metadata": {},
     "output_type": "display_data"
    },
    {
     "data": {
      "image/png": "[encoded data removed]",
      "text/plain": [
       "plot without title"
      ]
     },
     "metadata": {},
     "output_type": "display_data"
    },
    {
     "data": {},
     "metadata": {},
     "output_type": "display_data"
    },
    {
     "data": {
      "image/png": "[encoded data removed]",
      "text/plain": [
       "plot without title"
      ]
     },
     "metadata": {},
     "output_type": "display_data"
    },
    {
     "data": {
      "image/png": "[encoded data removed]",
      "text/plain": [
       "plot without title"
      ]
     },
     "metadata": {},
     "output_type": "display_data"
    }
   ],
   "source": [
    "#################################################################################################\n",
    "# Appendix: Exploratory Data Analysis\n",
    "#################################################################################################\n",
    "options(repr.plot.width=10, repr.plot.height=8)\n",
    "par(mfrow=c(1,2))\n",
    "\n",
    "## set Seed for reproducibility\n",
    "set.seed(123)\n",
    "\n",
    "## import relevant packages\n",
    "suppressPackageStartupMessages(library(ISLR, warn.conflicts=FALSE))\n",
    "suppressPackageStartupMessages(library(tidyverse, warn.conflicts=FALSE))\n",
    "suppressPackageStartupMessages(library(corrplot, warn.conflicts=FALSE))\n",
    "suppressPackageStartupMessages(library(MASS, warn.conflicts=FALSE))\n",
    "suppressPackageStartupMessages(library(class, warn.conflicts=FALSE))\n",
    "suppressPackageStartupMessages(library(glmnet, warn.conflicts=FALSE))\n",
    "\n",
    "## create initial data frame\n",
    "data <- Weekly\n",
    "\n",
    "## view data summary\n",
    "summary(data)\n",
    "\n",
    "## preview the first 5 rows\n",
    "head(data, 5)\n",
    "\n",
    "## preview 10 random rows\n",
    "(data[sample(nrow(data), 5), ])\n",
    "\n",
    "## preview the last 5 rows\n",
    "tail(data, 5)\n",
    "\n",
    "## lag the Volume column\n",
    "data$Volume <- lag(data$Volume, 1)\n",
    "data$Volume[is.na(data$Volume)] <- 0\n",
    "data$Volume.Lag2 <- lag(data$Volume, 2)\n",
    "data$Volume.Lag2[is.na(data$Volume.Lag2)] <- 0\n",
    "data$Volume.Lag3 <- lag(data$Volume, 3)\n",
    "data$Volume.Lag3[is.na(data$Volume.Lag3)] <- 0\n",
    "data$Volume.Lag4 <- lag(data$Volume, 4)\n",
    "data$Volume.Lag4[is.na(data$Volume.Lag4)] <- 0\n",
    "data$Volume.Lag5 <- lag(data$Volume, 5)\n",
    "data$Volume.Lag5[is.na(data$Volume.Lag5)] <- 0\n",
    "\n",
    "## differences between lags\n",
    "data$diff.lag1.lag2 <- (data$Lag1 - data$Lag2)\n",
    "data$diff.lag1.lag3 <- (data$Lag1 - data$Lag3)\n",
    "data$diff.lag1.lag4 <- (data$Lag1 - data$Lag4)\n",
    "data$diff.lag1.lag5 <- (data$Lag1 - data$Lag5)\n",
    "data$diff.lag2.lag3 <- (data$Lag2 - data$Lag2)\n",
    "data$diff.lag2.lag4 <- (data$Lag2 - data$Lag4)\n",
    "data$diff.lag2.lag5 <- (data$Lag2 - data$Lag5)\n",
    "data$diff.lag3.lag4 <- (data$Lag3 - data$Lag4)\n",
    "data$diff.lag3.lag5 <- (data$Lag3 - data$Lag5)\n",
    "data$diff.lag4.lag5 <- (data$Lag4 - data$Lag5)\n",
    "\n",
    "## squared-differences between lags\n",
    "data$sq.diff.lag1.lag2 <- (data$Lag1 - data$Lag2)**2\n",
    "data$sq.diff.lag1.lag3 <- (data$Lag1 - data$Lag3)**2\n",
    "data$sq.diff.lag1.lag4 <- (data$Lag1 - data$Lag4)**2\n",
    "data$sq.diff.lag1.lag5 <- (data$Lag1 - data$Lag5)**2\n",
    "data$sq.diff.lag2.lag3 <- (data$Lag2 - data$Lag2)**2\n",
    "data$sq.diff.lag2.lag4 <- (data$Lag2 - data$Lag4)**2\n",
    "data$sq.diff.lag2.lag5 <- (data$Lag2 - data$Lag5)**2\n",
    "data$sq.diff.lag3.lag4 <- (data$Lag3 - data$Lag4)**2\n",
    "data$sq.diff.lag3.lag5 <- (data$Lag3 - data$Lag5)**2\n",
    "data$sq.diff.lag4.lag5 <- (data$Lag4 - data$Lag5)**2\n",
    "\n",
    "## volume multiplied by percent return lags\n",
    "data$vol.lag.1 <- data$Lag1 * data$Volume\n",
    "data$vol.lag.2 <- data$Lag2 * data$Volume.Lag2\n",
    "data$vol.lag.3 <- data$Lag3 * data$Volume.Lag3\n",
    "data$vol.lag.4 <- data$Lag4 * data$Volume.Lag4\n",
    "data$vol.lag.5 <- data$Lag5 * data$Volume.Lag5\n",
    "\n",
    "## get the sequence order\n",
    "data$Sequence <- as.integer(row.names(data))\n",
    "\n",
    "## get the training and test sets\n",
    "training <- data$Year < 2009\n",
    "test.data <- data[!training,]\n",
    "train.data <- data[training,]\n",
    "train.data$Today <- NULL\n",
    "# train.data$Sequence <- NULL\n",
    "\n",
    "\n",
    "## predictors and Response\n",
    "predictors <- c(\"Lag1\",\"Lag2\",\"Lag3\",\"Lag4\",\"Lag5\", \"Volume\",'Volume.Lag2', 'Volume.Lag3', 'Volume.Lag4',\n",
    "                'Volume.Lag5','Sequence')\n",
    "response   <- \"Direction\"\n",
    "\n",
    "## Correlation of the variables\n",
    "(cor(data[predictors]))\n",
    "\n",
    "## check the proportion of the responses\n",
    "(table(data$Direction))\n",
    "ggplot(data,aes(x = Direction)) + \n",
    "    geom_bar() +\n",
    "    labs(title = \"Weekly Direction\", subtitle = \"Figure 1\")\n",
    "\n",
    "# histogram of the Weekly Return Percentages\n",
    "hist(data$Today, main=\"Histogram of Returns\", sub=expression(paste(italic(\"Figure 2\"))))\n",
    "abline(v=median(data$Today), col='red', lty='solid', lwd=2)\n",
    "abline(v=mean(data$Today), col='green', lty='dotdash', lwd=2)\n",
    "abline(v=mean(data$Today)+sd(data$Today), col='pink', lty='solid', lwd=1.75)\n",
    "abline(v=mean(data$Today)-sd(data$Today), col='pink', lty='solid', lwd=1.75)\n",
    "legend(-20,400,legend=c(\"Median\", \"Mean\", \"Standard Deviation\"),\n",
    "       col=c(\"red\", \"green\", 'pink'), lty=c('solid', 'dotdash', 'solid'), cex=0.45)\n",
    "\n",
    "# histogram of daily average volume by week \n",
    "hist(data$Volume, main=\"Histogram of Daily Average Volume by Week\", sub=expression(paste(italic(\"Figure 3\"))))\n",
    "abline(v=median(data$Volume), col='red', lty='solid', lwd=2)\n",
    "abline(v=mean(data$Volume), col='green', lty='dotdash', lwd=2)\n",
    "abline(v=mean(data$Volume)+sd(data$Volume), col='pink', lty='solid', lwd=1.75)\n",
    "legend(4,500,legend=c(\"Median\", \"Mean\", \"Standard Deviation\"),\n",
    "       col=c(\"red\", \"green\", 'pink'), lty=c('solid', 'dotdash', 'solid'), cex=0.45)\n",
    "\n",
    "# Visualize Weekly returns and weekly volume across time\n",
    "ggplot(data, aes(x = Sequence, y = Today)) + \n",
    "    geom_point(col=\"red\") +\n",
    "    geom_line(col=\"black\") +\n",
    "    labs(title=\"Weekly Percent Return Through Time\",caption=\"Figure 4\") + \n",
    "    theme(\n",
    "        plot.title = element_text(hjust = 0.5, size = 14),    \n",
    "        plot.subtitle = element_text(hjust = 0.5),            \n",
    "        plot.caption = element_text(hjust = 0, face = \"italic\", size=14))\n",
    "\n",
    "ggplot(data, aes(x = Sequence, y = Today)) + \n",
    "    geom_point(col=\"red\") +\n",
    "    geom_smooth(method=\"auto\",col=\"black\") +\n",
    "    labs(title=\"Smoothed Weekly Percent Return Through Time\",caption=\"Figure 5\") + \n",
    "    theme(\n",
    "        plot.title = element_text(hjust = 0.5, size = 14),    \n",
    "        plot.subtitle = element_text(hjust = 0.5),            \n",
    "        plot.caption = element_text(hjust = 0, face = \"italic\", size=14))\n",
    "\n",
    "ggplot(data, aes(x = Sequence, y = Volume)) + \n",
    "    geom_point(col=\"red\") +\n",
    "    geom_line(col=\"black\") +\n",
    "    labs(title=\"Weekly Average Daily Trade Volume Through Time\",caption=\"Figure 6\") + \n",
    "    theme(\n",
    "        plot.title = element_text(hjust = 0.5, size = 14),    \n",
    "        plot.subtitle = element_text(hjust = 0.5),            \n",
    "        plot.caption = element_text(hjust = 0, face = \"italic\", size=14))\n",
    "\n",
    "ggplot(data, aes(x = Sequence, y = log(Volume))) + \n",
    "    geom_point(col=\"red\") +\n",
    "    geom_line(col=\"black\") +\n",
    "    labs(title=\"Log Weekly Average Daily Trade Volume Through Time\",caption=\"Figure 7\") + \n",
    "    theme(\n",
    "        plot.title = element_text(hjust = 0.5, size = 14),    \n",
    "        plot.subtitle = element_text(hjust = 0.5),            \n",
    "        plot.caption = element_text(hjust = 0, face = \"italic\", size=14))"
   ]
  },
  {
   "cell_type": "code",
   "execution_count": 117,
   "metadata": {},
   "outputs": [
    {
     "data": {
      "text/plain": [
       "\n",
       "Call:\n",
       "glm(formula = Direction ~ Lag2, family = binomial, data = train.data)\n",
       "\n",
       "Deviance Residuals: \n",
       "   Min      1Q  Median      3Q     Max  \n",
       "-1.536  -1.264   1.021   1.091   1.368  \n",
       "\n",
       "Coefficients:\n",
       "            Estimate Std. Error z value Pr(>|z|)   \n",
       "(Intercept)  0.20326    0.06428   3.162  0.00157 **\n",
       "Lag2         0.05810    0.02870   2.024  0.04298 * \n",
       "---\n",
       "Signif. codes:  0 '***' 0.001 '**' 0.01 '*' 0.05 '.' 0.1 ' ' 1\n",
       "\n",
       "(Dispersion parameter for binomial family taken to be 1)\n",
       "\n",
       "    Null deviance: 1354.7  on 984  degrees of freedom\n",
       "Residual deviance: 1350.5  on 983  degrees of freedom\n",
       "AIC: 1354.5\n",
       "\n",
       "Number of Fisher Scoring iterations: 4\n"
      ]
     },
     "metadata": {},
     "output_type": "display_data"
    },
    {
     "data": {
      "text/plain": [
       "      Preds\n",
       "Actual Down Up\n",
       "  Down    9 34\n",
       "  Up      5 56"
      ]
     },
     "metadata": {},
     "output_type": "display_data"
    },
    {
     "data": {
      "text/html": [
       "<span style=white-space:pre-wrap>'Testing - Correct Classification Rate:  0.625'</span>"
      ],
      "text/latex": [
       "'Testing - Correct Classification Rate:  0.625'"
      ],
      "text/markdown": [
       "<span style=white-space:pre-wrap>'Testing - Correct Classification Rate:  0.625'</span>"
      ],
      "text/plain": [
       "[1] \"Testing - Correct Classification Rate:  0.625\""
      ]
     },
     "metadata": {},
     "output_type": "display_data"
    },
    {
     "data": {
      "text/html": [
       "<span style=white-space:pre-wrap>'Testing - Misclassification Rate:  0.375'</span>"
      ],
      "text/latex": [
       "'Testing - Misclassification Rate:  0.375'"
      ],
      "text/markdown": [
       "<span style=white-space:pre-wrap>'Testing - Misclassification Rate:  0.375'</span>"
      ],
      "text/plain": [
       "[1] \"Testing - Misclassification Rate:  0.375\""
      ]
     },
     "metadata": {},
     "output_type": "display_data"
    },
    {
     "data": {
      "text/html": [
       "<span style=white-space:pre-wrap>'Testing - Specificity:  0.209302325581395'</span>"
      ],
      "text/latex": [
       "'Testing - Specificity:  0.209302325581395'"
      ],
      "text/markdown": [
       "<span style=white-space:pre-wrap>'Testing - Specificity:  0.209302325581395'</span>"
      ],
      "text/plain": [
       "[1] \"Testing - Specificity:  0.209302325581395\""
      ]
     },
     "metadata": {},
     "output_type": "display_data"
    },
    {
     "data": {
      "text/html": [
       "<span style=white-space:pre-wrap>'Testing - Sensitvity:  0.918032786885246'</span>"
      ],
      "text/latex": [
       "'Testing - Sensitvity:  0.918032786885246'"
      ],
      "text/markdown": [
       "<span style=white-space:pre-wrap>'Testing - Sensitvity:  0.918032786885246'</span>"
      ],
      "text/plain": [
       "[1] \"Testing - Sensitvity:  0.918032786885246\""
      ]
     },
     "metadata": {},
     "output_type": "display_data"
    },
    {
     "data": {
      "text/html": [
       "<span style=white-space:pre-wrap>'Testing - Positive Predictive Value:  0.622222222222222'</span>"
      ],
      "text/latex": [
       "'Testing - Positive Predictive Value:  0.622222222222222'"
      ],
      "text/markdown": [
       "<span style=white-space:pre-wrap>'Testing - Positive Predictive Value:  0.622222222222222'</span>"
      ],
      "text/plain": [
       "[1] \"Testing - Positive Predictive Value:  0.622222222222222\""
      ]
     },
     "metadata": {},
     "output_type": "display_data"
    },
    {
     "data": {
      "text/html": [
       "<span style=white-space:pre-wrap>'Testing - Negative Predictive Value:  0.642857142857143'</span>"
      ],
      "text/latex": [
       "'Testing - Negative Predictive Value:  0.642857142857143'"
      ],
      "text/markdown": [
       "<span style=white-space:pre-wrap>'Testing - Negative Predictive Value:  0.642857142857143'</span>"
      ],
      "text/plain": [
       "[1] \"Testing - Negative Predictive Value:  0.642857142857143\""
      ]
     },
     "metadata": {},
     "output_type": "display_data"
    }
   ],
   "source": [
    "#################################################################################################\n",
    "# Appendix: Logistic Regression - Using hold-out validation set and just Lag2 predictor\n",
    "#################################################################################################\n",
    "## Fit model\n",
    "logistic.regression <- glm(Direction∼Lag2,\n",
    "                           data=train.data, family=binomial)\n",
    "# Summary\n",
    "(summary(logistic.regression))\n",
    "\n",
    "# Training Prediction\n",
    "logistic.prediction.probs <- predict(logistic.regression, type=\"response\")\n",
    "logistic.predictions <- rep(\"Down\",nrow(train.data))\n",
    "logistic.predictions[logistic.prediction.probs>.5]=\"Up\"\n",
    "\n",
    "# Testing Prediction\n",
    "logistic.prediction.probs.2 <- predict(logistic.regression, test.data, type=\"response\")\n",
    "logistic.predictions.2 <- rep(\"Down\",nrow(test.data))\n",
    "logistic.predictions.2[logistic.prediction.probs.2>.5]=\"Up\"\n",
    "\n",
    "# Testing Confusion matrix\n",
    "(test.table <- table(\"Actual\"=test.data$Direction, \"Preds\"=logistic.predictions.2))\n",
    "\n",
    "# Classificaiton metrics\n",
    "paste(\"Testing - Correct Classification Rate: \", (test.table[1,1]+test.table[2,2])/(nrow(test.data)))\n",
    "paste(\"Testing - Misclassification Rate: \", 1-(test.table[1,1]+test.table[2,2])/(nrow(test.data)))\n",
    "paste(\"Testing - Specificity: \", (test.table[1,1])/(test.table[1,1]+test.table[1,2]))\n",
    "paste(\"Testing - Sensitvity: \", (test.table[2,2])/(test.table[2,2]+test.table[2,1]))\n",
    "paste(\"Testing - Positive Predictive Value: \", (test.table[2,2])/(test.table[1,2]+test.table[2,2]))\n",
    "paste(\"Testing - Negative Predictive Value: \", (test.table[1,1])/(test.table[1,1]+test.table[2,1]))"
   ]
  },
  {
   "cell_type": "code",
   "execution_count": 55,
   "metadata": {},
   "outputs": [
    {
     "data": {
      "text/plain": [
       "Call:\n",
       "lda(Direction ~ Lag2, data = train.data)\n",
       "\n",
       "Prior probabilities of groups:\n",
       "     Down        Up \n",
       "0.4477157 0.5522843 \n",
       "\n",
       "Group means:\n",
       "            Lag2\n",
       "Down -0.07205722\n",
       "Up    0.05841404\n",
       "\n",
       "Coefficients of linear discriminants:\n",
       "          LD1\n",
       "Lag2 1.001604"
      ]
     },
     "metadata": {},
     "output_type": "display_data"
    },
    {
     "data": {
      "text/html": [
       "'Prior, unconditioned probability of Down: 0.447715736040609'"
      ],
      "text/latex": [
       "'Prior, unconditioned probability of Down: 0.447715736040609'"
      ],
      "text/markdown": [
       "'Prior, unconditioned probability of Down: 0.447715736040609'"
      ],
      "text/plain": [
       "[1] \"Prior, unconditioned probability of Down: 0.447715736040609\""
      ]
     },
     "metadata": {},
     "output_type": "display_data"
    },
    {
     "data": {
      "text/html": [
       "'Prior, unconditioned probability of Up: 0.552284263959391'"
      ],
      "text/latex": [
       "'Prior, unconditioned probability of Up: 0.552284263959391'"
      ],
      "text/markdown": [
       "'Prior, unconditioned probability of Up: 0.552284263959391'"
      ],
      "text/plain": [
       "[1] \"Prior, unconditioned probability of Up: 0.552284263959391\""
      ]
     },
     "metadata": {},
     "output_type": "display_data"
    },
    {
     "data": {
      "text/plain": [
       "      Preds\n",
       "Actual Down Up\n",
       "  Down    4 39\n",
       "  Up      2 59"
      ]
     },
     "metadata": {},
     "output_type": "display_data"
    },
    {
     "data": {
      "text/html": [
       "<span style=white-space:pre-wrap>'Testing - Correct Classification Rate:  0.605769230769231'</span>"
      ],
      "text/latex": [
       "'Testing - Correct Classification Rate:  0.605769230769231'"
      ],
      "text/markdown": [
       "<span style=white-space:pre-wrap>'Testing - Correct Classification Rate:  0.605769230769231'</span>"
      ],
      "text/plain": [
       "[1] \"Testing - Correct Classification Rate:  0.605769230769231\""
      ]
     },
     "metadata": {},
     "output_type": "display_data"
    },
    {
     "data": {
      "text/html": [
       "<span style=white-space:pre-wrap>'Testing - Misclassification Rate:  0.394230769230769'</span>"
      ],
      "text/latex": [
       "'Testing - Misclassification Rate:  0.394230769230769'"
      ],
      "text/markdown": [
       "<span style=white-space:pre-wrap>'Testing - Misclassification Rate:  0.394230769230769'</span>"
      ],
      "text/plain": [
       "[1] \"Testing - Misclassification Rate:  0.394230769230769\""
      ]
     },
     "metadata": {},
     "output_type": "display_data"
    },
    {
     "data": {
      "text/html": [
       "<span style=white-space:pre-wrap>'Testing - Specificity:  0.0930232558139535'</span>"
      ],
      "text/latex": [
       "'Testing - Specificity:  0.0930232558139535'"
      ],
      "text/markdown": [
       "<span style=white-space:pre-wrap>'Testing - Specificity:  0.0930232558139535'</span>"
      ],
      "text/plain": [
       "[1] \"Testing - Specificity:  0.0930232558139535\""
      ]
     },
     "metadata": {},
     "output_type": "display_data"
    },
    {
     "data": {
      "text/html": [
       "<span style=white-space:pre-wrap>'Testing - Sensitvity:  0.967213114754098'</span>"
      ],
      "text/latex": [
       "'Testing - Sensitvity:  0.967213114754098'"
      ],
      "text/markdown": [
       "<span style=white-space:pre-wrap>'Testing - Sensitvity:  0.967213114754098'</span>"
      ],
      "text/plain": [
       "[1] \"Testing - Sensitvity:  0.967213114754098\""
      ]
     },
     "metadata": {},
     "output_type": "display_data"
    },
    {
     "data": {
      "text/html": [
       "<span style=white-space:pre-wrap>'Testing - Positive Predictive Value:  0.602040816326531'</span>"
      ],
      "text/latex": [
       "'Testing - Positive Predictive Value:  0.602040816326531'"
      ],
      "text/markdown": [
       "<span style=white-space:pre-wrap>'Testing - Positive Predictive Value:  0.602040816326531'</span>"
      ],
      "text/plain": [
       "[1] \"Testing - Positive Predictive Value:  0.602040816326531\""
      ]
     },
     "metadata": {},
     "output_type": "display_data"
    },
    {
     "data": {
      "text/html": [
       "<span style=white-space:pre-wrap>'Testing - Negative Predictive Value:  0.666666666666667'</span>"
      ],
      "text/latex": [
       "'Testing - Negative Predictive Value:  0.666666666666667'"
      ],
      "text/markdown": [
       "<span style=white-space:pre-wrap>'Testing - Negative Predictive Value:  0.666666666666667'</span>"
      ],
      "text/plain": [
       "[1] \"Testing - Negative Predictive Value:  0.666666666666667\""
      ]
     },
     "metadata": {},
     "output_type": "display_data"
    },
    {
     "data": {
      "image/png": "[encoded data removed]",
      "text/plain": [
       "plot without title"
      ]
     },
     "metadata": {},
     "output_type": "display_data"
    }
   ],
   "source": [
    "#################################################################################################\n",
    "# Appendix: Linear Discriminant Analysis - Using hold-out validation set and just Lag2 predictor\n",
    "#################################################################################################\n",
    "## Fit model\n",
    "lda.model <- lda(Direction ~ Lag2, data=train.data)\n",
    "\n",
    "## Summary\n",
    "(lda.model)\n",
    "\n",
    "## Plot\n",
    "plot(lda.model)\n",
    "\n",
    "paste(\"Prior, unconditioned probability of Down:\", lda.model$prior[1])\n",
    "paste(\"Prior, unconditioned probability of Up:\", lda.model$prior[2])\n",
    "\n",
    "## Prediction\n",
    "lda.predictions <- predict(lda.model, test.data)\n",
    "\n",
    "# Testing Confusion matrix\n",
    "# Confusion matrix\n",
    "(test.table <- table(\"Actual\"=test.data$Direction, \"Preds\"=lda.predictions$class))\n",
    "\n",
    "# Classificaiton metrics\n",
    "paste(\"Testing - Correct Classification Rate: \", (test.table[1,1]+test.table[2,2])/(nrow(test.data)))\n",
    "paste(\"Testing - Misclassification Rate: \", 1-(test.table[1,1]+test.table[2,2])/(nrow(test.data)))\n",
    "paste(\"Testing - Specificity: \", (test.table[1,1])/(test.table[1,1]+test.table[1,2]))\n",
    "paste(\"Testing - Sensitvity: \", (test.table[2,2])/(test.table[2,2]+test.table[2,1]))\n",
    "paste(\"Testing - Positive Predictive Value: \", (test.table[2,2])/(test.table[1,2]+test.table[2,2]))\n",
    "paste(\"Testing - Negative Predictive Value: \", (test.table[1,1])/(test.table[1,1]+test.table[2,1]))"
   ]
  },
  {
   "cell_type": "code",
   "execution_count": 56,
   "metadata": {},
   "outputs": [
    {
     "data": {
      "text/plain": [
       "Call:\n",
       "qda(Direction ~ Lag2, data = train.data)\n",
       "\n",
       "Prior probabilities of groups:\n",
       "     Down        Up \n",
       "0.4477157 0.5522843 \n",
       "\n",
       "Group means:\n",
       "            Lag2\n",
       "Down -0.07205722\n",
       "Up    0.05841404"
      ]
     },
     "metadata": {},
     "output_type": "display_data"
    },
    {
     "data": {
      "text/html": [
       "'Prior, unconditioned probability of Down: 0.447715736040609'"
      ],
      "text/latex": [
       "'Prior, unconditioned probability of Down: 0.447715736040609'"
      ],
      "text/markdown": [
       "'Prior, unconditioned probability of Down: 0.447715736040609'"
      ],
      "text/plain": [
       "[1] \"Prior, unconditioned probability of Down: 0.447715736040609\""
      ]
     },
     "metadata": {},
     "output_type": "display_data"
    },
    {
     "data": {
      "text/html": [
       "'Prior, unconditioned probability of Up: 0.552284263959391'"
      ],
      "text/latex": [
       "'Prior, unconditioned probability of Up: 0.552284263959391'"
      ],
      "text/markdown": [
       "'Prior, unconditioned probability of Up: 0.552284263959391'"
      ],
      "text/plain": [
       "[1] \"Prior, unconditioned probability of Up: 0.552284263959391\""
      ]
     },
     "metadata": {},
     "output_type": "display_data"
    },
    {
     "data": {
      "text/plain": [
       "      Preds\n",
       "Actual Down  Up\n",
       "  Down    0 441\n",
       "  Up      0 544"
      ]
     },
     "metadata": {},
     "output_type": "display_data"
    },
    {
     "data": {
      "text/plain": [
       "      Preds\n",
       "Actual Down Up\n",
       "  Down    0 43\n",
       "  Up      0 61"
      ]
     },
     "metadata": {},
     "output_type": "display_data"
    },
    {
     "data": {
      "text/html": [
       "<span style=white-space:pre-wrap>'Testing - Correct Classification Rate:  0.586538461538462'</span>"
      ],
      "text/latex": [
       "'Testing - Correct Classification Rate:  0.586538461538462'"
      ],
      "text/markdown": [
       "<span style=white-space:pre-wrap>'Testing - Correct Classification Rate:  0.586538461538462'</span>"
      ],
      "text/plain": [
       "[1] \"Testing - Correct Classification Rate:  0.586538461538462\""
      ]
     },
     "metadata": {},
     "output_type": "display_data"
    },
    {
     "data": {
      "text/html": [
       "<span style=white-space:pre-wrap>'Testing - Misclassification Rate:  0.413461538461538'</span>"
      ],
      "text/latex": [
       "'Testing - Misclassification Rate:  0.413461538461538'"
      ],
      "text/markdown": [
       "<span style=white-space:pre-wrap>'Testing - Misclassification Rate:  0.413461538461538'</span>"
      ],
      "text/plain": [
       "[1] \"Testing - Misclassification Rate:  0.413461538461538\""
      ]
     },
     "metadata": {},
     "output_type": "display_data"
    },
    {
     "data": {
      "text/html": [
       "<span style=white-space:pre-wrap>'Testing - Specificity:  0'</span>"
      ],
      "text/latex": [
       "'Testing - Specificity:  0'"
      ],
      "text/markdown": [
       "<span style=white-space:pre-wrap>'Testing - Specificity:  0'</span>"
      ],
      "text/plain": [
       "[1] \"Testing - Specificity:  0\""
      ]
     },
     "metadata": {},
     "output_type": "display_data"
    },
    {
     "data": {
      "text/html": [
       "<span style=white-space:pre-wrap>'Testing - Sensitvity:  1'</span>"
      ],
      "text/latex": [
       "'Testing - Sensitvity:  1'"
      ],
      "text/markdown": [
       "<span style=white-space:pre-wrap>'Testing - Sensitvity:  1'</span>"
      ],
      "text/plain": [
       "[1] \"Testing - Sensitvity:  1\""
      ]
     },
     "metadata": {},
     "output_type": "display_data"
    },
    {
     "data": {
      "text/html": [
       "<span style=white-space:pre-wrap>'Testing - Positive Predictive Value:  0.586538461538462'</span>"
      ],
      "text/latex": [
       "'Testing - Positive Predictive Value:  0.586538461538462'"
      ],
      "text/markdown": [
       "<span style=white-space:pre-wrap>'Testing - Positive Predictive Value:  0.586538461538462'</span>"
      ],
      "text/plain": [
       "[1] \"Testing - Positive Predictive Value:  0.586538461538462\""
      ]
     },
     "metadata": {},
     "output_type": "display_data"
    },
    {
     "data": {
      "text/html": [
       "<span style=white-space:pre-wrap>'Testing - Negative Predictive Value:  NaN'</span>"
      ],
      "text/latex": [
       "'Testing - Negative Predictive Value:  NaN'"
      ],
      "text/markdown": [
       "<span style=white-space:pre-wrap>'Testing - Negative Predictive Value:  NaN'</span>"
      ],
      "text/plain": [
       "[1] \"Testing - Negative Predictive Value:  NaN\""
      ]
     },
     "metadata": {},
     "output_type": "display_data"
    }
   ],
   "source": [
    "#################################################################################################\n",
    "# Appendix: Quadratic Discriminant Analysis - Using hold-out validation set and just Lag2 predictor\n",
    "#################################################################################################\n",
    "## Fit model\n",
    "qda.model <- qda(Direction ~ Lag2, data=train.data)\n",
    "\n",
    "## Summary\n",
    "(qda.model)\n",
    "\n",
    "paste(\"Prior, unconditioned probability of Down:\", qda.model$prior[1])\n",
    "paste(\"Prior, unconditioned probability of Up:\", qda.model$prior[2])\n",
    "\n",
    "## Training Fit\n",
    "lda.prediction <- predict(qda.model, train.data)\n",
    "\n",
    "# Training Confusion matrix\n",
    "table(\"Actual\"=train.data$Direction, \"Preds\"=lda.prediction$class)\n",
    "\n",
    "## Test Prediction\n",
    "lda.prediction <- predict(qda.model, test.data)\n",
    "\n",
    "# Testing Confusion matrix\n",
    "(test.table <- table(\"Actual\"=test.data$Direction, \"Preds\"=lda.prediction$class))\n",
    "\n",
    "# Classificaiton metrics\n",
    "paste(\"Testing - Correct Classification Rate: \", (test.table[1,1]+test.table[2,2])/(nrow(test.data)))\n",
    "paste(\"Testing - Misclassification Rate: \", 1-(test.table[1,1]+test.table[2,2])/(nrow(test.data)))\n",
    "paste(\"Testing - Specificity: \", (test.table[1,1])/(test.table[1,1]+test.table[1,2]))\n",
    "paste(\"Testing - Sensitvity: \", (test.table[2,2])/(test.table[2,2]+test.table[2,1]))\n",
    "paste(\"Testing - Positive Predictive Value: \", (test.table[2,2])/(test.table[1,2]+test.table[2,2]))\n",
    "paste(\"Testing - Negative Predictive Value: \", (test.table[1,1])/(test.table[1,1]+test.table[2,1]))"
   ]
  },
  {
   "cell_type": "code",
   "execution_count": 57,
   "metadata": {
    "scrolled": true
   },
   "outputs": [
    {
     "data": {
      "text/plain": [
       "      Preds\n",
       "Actual Down Up\n",
       "  Down   14 29\n",
       "  Up     26 35"
      ]
     },
     "metadata": {},
     "output_type": "display_data"
    },
    {
     "data": {
      "text/html": [
       "<span style=white-space:pre-wrap>'Testing - Correct Classification Rate:  0.471153846153846'</span>"
      ],
      "text/latex": [
       "'Testing - Correct Classification Rate:  0.471153846153846'"
      ],
      "text/markdown": [
       "<span style=white-space:pre-wrap>'Testing - Correct Classification Rate:  0.471153846153846'</span>"
      ],
      "text/plain": [
       "[1] \"Testing - Correct Classification Rate:  0.471153846153846\""
      ]
     },
     "metadata": {},
     "output_type": "display_data"
    },
    {
     "data": {
      "text/html": [
       "<span style=white-space:pre-wrap>'Testing - Misclassification Rate:  0.528846153846154'</span>"
      ],
      "text/latex": [
       "'Testing - Misclassification Rate:  0.528846153846154'"
      ],
      "text/markdown": [
       "<span style=white-space:pre-wrap>'Testing - Misclassification Rate:  0.528846153846154'</span>"
      ],
      "text/plain": [
       "[1] \"Testing - Misclassification Rate:  0.528846153846154\""
      ]
     },
     "metadata": {},
     "output_type": "display_data"
    },
    {
     "data": {
      "text/html": [
       "<span style=white-space:pre-wrap>'Testing - Specificity:  0.325581395348837'</span>"
      ],
      "text/latex": [
       "'Testing - Specificity:  0.325581395348837'"
      ],
      "text/markdown": [
       "<span style=white-space:pre-wrap>'Testing - Specificity:  0.325581395348837'</span>"
      ],
      "text/plain": [
       "[1] \"Testing - Specificity:  0.325581395348837\""
      ]
     },
     "metadata": {},
     "output_type": "display_data"
    },
    {
     "data": {
      "text/html": [
       "<span style=white-space:pre-wrap>'Testing - Sensitvity:  0.573770491803279'</span>"
      ],
      "text/latex": [
       "'Testing - Sensitvity:  0.573770491803279'"
      ],
      "text/markdown": [
       "<span style=white-space:pre-wrap>'Testing - Sensitvity:  0.573770491803279'</span>"
      ],
      "text/plain": [
       "[1] \"Testing - Sensitvity:  0.573770491803279\""
      ]
     },
     "metadata": {},
     "output_type": "display_data"
    },
    {
     "data": {
      "text/html": [
       "<span style=white-space:pre-wrap>'Testing - Positive Predictive Value:  0.546875'</span>"
      ],
      "text/latex": [
       "'Testing - Positive Predictive Value:  0.546875'"
      ],
      "text/markdown": [
       "<span style=white-space:pre-wrap>'Testing - Positive Predictive Value:  0.546875'</span>"
      ],
      "text/plain": [
       "[1] \"Testing - Positive Predictive Value:  0.546875\""
      ]
     },
     "metadata": {},
     "output_type": "display_data"
    },
    {
     "data": {
      "text/html": [
       "<span style=white-space:pre-wrap>'Testing - Negative Predictive Value:  0.35'</span>"
      ],
      "text/latex": [
       "'Testing - Negative Predictive Value:  0.35'"
      ],
      "text/markdown": [
       "<span style=white-space:pre-wrap>'Testing - Negative Predictive Value:  0.35'</span>"
      ],
      "text/plain": [
       "[1] \"Testing - Negative Predictive Value:  0.35\""
      ]
     },
     "metadata": {},
     "output_type": "display_data"
    }
   ],
   "source": [
    "#################################################################################################\n",
    "# Appendix: k-Nearest Neighbors Classification - Using hold-out validation set and just Lag2 predictor\n",
    "#################################################################################################\n",
    "## Fit model\n",
    "train.X <- as.data.frame(train.data$Lag2)\n",
    "test.X <- as.data.frame(test.data$Lag2)\n",
    "train.Direction <- (train.data$Direction)\n",
    "\n",
    "knn.model <- knn(train=train.X,test=test.X,cl=train.Direction,k=1)\n",
    "\n",
    "# Testing Confusion matrix\n",
    "(test.table <- table(\"Actual\"=test.data$Direction, \"Preds\"=knn.model))\n",
    "\n",
    "# Classificaiton metrics\n",
    "paste(\"Testing - Correct Classification Rate: \", (test.table[1,1]+test.table[2,2])/(nrow(test.data)))\n",
    "paste(\"Testing - Misclassification Rate: \", 1-(test.table[1,1]+test.table[2,2])/(nrow(test.data)))\n",
    "paste(\"Testing - Specificity: \", (test.table[1,1])/(test.table[1,1]+test.table[1,2]))\n",
    "paste(\"Testing - Sensitvity: \", (test.table[2,2])/(test.table[2,2]+test.table[2,1]))\n",
    "paste(\"Testing - Positive Predictive Value: \", (test.table[2,2])/(test.table[1,2]+test.table[2,2]))\n",
    "paste(\"Testing - Negative Predictive Value: \", (test.table[1,1])/(test.table[1,1]+test.table[2,1]))"
   ]
  },
  {
   "cell_type": "code",
   "execution_count": 159,
   "metadata": {
    "scrolled": false
   },
   "outputs": [
    {
     "data": {
      "text/plain": [
       "\n",
       "Call:\n",
       "glm(formula = Direction ~ Lag1:Lag3 + Lag2 + Lag3 + Volume.Lag2:Volume.Lag3 + \n",
       "    Volume.Lag2:Lag5, family = binomial, data = train.data)\n",
       "\n",
       "Deviance Residuals: \n",
       "   Min      1Q  Median      3Q     Max  \n",
       "-1.542  -1.265   1.014   1.087   1.573  \n",
       "\n",
       "Coefficients:\n",
       "                         Estimate Std. Error z value Pr(>|z|)    \n",
       "(Intercept)              0.238191   0.071579   3.328 0.000876 ***\n",
       "Lag2                     0.052842   0.029681   1.780 0.075023 .  \n",
       "Lag3                    -0.018915   0.029857  -0.633 0.526408    \n",
       "Lag1:Lag3                0.015800   0.010016   1.577 0.114691    \n",
       "Volume.Lag2:Volume.Lag3 -0.012389   0.010992  -1.127 0.259686    \n",
       "Volume.Lag2:Lag5         0.007407   0.010020   0.739 0.459772    \n",
       "---\n",
       "Signif. codes:  0 '***' 0.001 '**' 0.01 '*' 0.05 '.' 0.1 ' ' 1\n",
       "\n",
       "(Dispersion parameter for binomial family taken to be 1)\n",
       "\n",
       "    Null deviance: 1354.7  on 984  degrees of freedom\n",
       "Residual deviance: 1345.9  on 979  degrees of freedom\n",
       "AIC: 1357.9\n",
       "\n",
       "Number of Fisher Scoring iterations: 4\n"
      ]
     },
     "metadata": {},
     "output_type": "display_data"
    },
    {
     "data": {
      "text/plain": [
       "      Preds\n",
       "Actual Down Up\n",
       "  Down   26 17\n",
       "  Up     23 38"
      ]
     },
     "metadata": {},
     "output_type": "display_data"
    },
    {
     "data": {
      "text/html": [
       "<span style=white-space:pre-wrap>'Testing - Correct Classification Rate:  0.615384615384615'</span>"
      ],
      "text/latex": [
       "'Testing - Correct Classification Rate:  0.615384615384615'"
      ],
      "text/markdown": [
       "<span style=white-space:pre-wrap>'Testing - Correct Classification Rate:  0.615384615384615'</span>"
      ],
      "text/plain": [
       "[1] \"Testing - Correct Classification Rate:  0.615384615384615\""
      ]
     },
     "metadata": {},
     "output_type": "display_data"
    },
    {
     "data": {
      "text/html": [
       "<span style=white-space:pre-wrap>'Testing - Misclassification Rate:  0.384615384615385'</span>"
      ],
      "text/latex": [
       "'Testing - Misclassification Rate:  0.384615384615385'"
      ],
      "text/markdown": [
       "<span style=white-space:pre-wrap>'Testing - Misclassification Rate:  0.384615384615385'</span>"
      ],
      "text/plain": [
       "[1] \"Testing - Misclassification Rate:  0.384615384615385\""
      ]
     },
     "metadata": {},
     "output_type": "display_data"
    },
    {
     "data": {
      "text/html": [
       "<span style=white-space:pre-wrap>'Testing - Specificity:  0.604651162790698'</span>"
      ],
      "text/latex": [
       "'Testing - Specificity:  0.604651162790698'"
      ],
      "text/markdown": [
       "<span style=white-space:pre-wrap>'Testing - Specificity:  0.604651162790698'</span>"
      ],
      "text/plain": [
       "[1] \"Testing - Specificity:  0.604651162790698\""
      ]
     },
     "metadata": {},
     "output_type": "display_data"
    },
    {
     "data": {
      "text/html": [
       "<span style=white-space:pre-wrap>'Testing - Sensitvity:  0.622950819672131'</span>"
      ],
      "text/latex": [
       "'Testing - Sensitvity:  0.622950819672131'"
      ],
      "text/markdown": [
       "<span style=white-space:pre-wrap>'Testing - Sensitvity:  0.622950819672131'</span>"
      ],
      "text/plain": [
       "[1] \"Testing - Sensitvity:  0.622950819672131\""
      ]
     },
     "metadata": {},
     "output_type": "display_data"
    },
    {
     "data": {
      "text/html": [
       "<span style=white-space:pre-wrap>'Testing - Positive Predictive Value:  0.690909090909091'</span>"
      ],
      "text/latex": [
       "'Testing - Positive Predictive Value:  0.690909090909091'"
      ],
      "text/markdown": [
       "<span style=white-space:pre-wrap>'Testing - Positive Predictive Value:  0.690909090909091'</span>"
      ],
      "text/plain": [
       "[1] \"Testing - Positive Predictive Value:  0.690909090909091\""
      ]
     },
     "metadata": {},
     "output_type": "display_data"
    },
    {
     "data": {
      "text/html": [
       "<span style=white-space:pre-wrap>'Testing - Negative Predictive Value:  0.530612244897959'</span>"
      ],
      "text/latex": [
       "'Testing - Negative Predictive Value:  0.530612244897959'"
      ],
      "text/markdown": [
       "<span style=white-space:pre-wrap>'Testing - Negative Predictive Value:  0.530612244897959'</span>"
      ],
      "text/plain": [
       "[1] \"Testing - Negative Predictive Value:  0.530612244897959\""
      ]
     },
     "metadata": {},
     "output_type": "display_data"
    }
   ],
   "source": [
    "#################################################################################################\n",
    "# Appendix: Logistic Regression - Using hold-out validation set and various predictors\n",
    "#################################################################################################\n",
    "## Fit model\n",
    "logistic.regression <- glm(Direction∼ Lag1:Lag3 + Lag2 + Lag3 +\n",
    "                           Volume.Lag2:Volume.Lag3 + Volume.Lag2:Lag5,\n",
    "                           data=train.data, family=binomial)\n",
    "# Summary\n",
    "(summary(logistic.regression))\n",
    "\n",
    "# Testing Prediction\n",
    "logistic.prediction.probs <- predict(logistic.regression, test.data, type=\"response\")\n",
    "logistic.predictions <- rep(\"Down\",nrow(test.data))\n",
    "logistic.predictions[logistic.prediction.probs>.5]=\"Up\"\n",
    "\n",
    "# Testing Confusion matrix\n",
    "(test.table <- table(\"Actual\"=test.data$Direction, \"Preds\"=logistic.predictions))\n",
    "\n",
    "# Classificaiton metrics\n",
    "paste(\"Testing - Correct Classification Rate: \", (test.table[1,1]+test.table[2,2])/(nrow(test.data)))\n",
    "paste(\"Testing - Misclassification Rate: \", 1-(test.table[1,1]+test.table[2,2])/(nrow(test.data)))\n",
    "paste(\"Testing - Specificity: \", (test.table[1,1])/(test.table[1,1]+test.table[1,2]))\n",
    "paste(\"Testing - Sensitvity: \", (test.table[2,2])/(test.table[2,2]+test.table[2,1]))\n",
    "paste(\"Testing - Positive Predictive Value: \", (test.table[2,2])/(test.table[1,2]+test.table[2,2]))\n",
    "paste(\"Testing - Negative Predictive Value: \", (test.table[1,1])/(test.table[1,1]+test.table[2,1]))"
   ]
  },
  {
   "cell_type": "code",
   "execution_count": 158,
   "metadata": {},
   "outputs": [
    {
     "data": {
      "text/plain": [
       "Call:\n",
       "lda(Direction ~ Lag1:Lag3 + Lag2 + Lag3 + Volume.Lag2:Volume.Lag3 + \n",
       "    Volume.Lag2:Lag5, data = train.data)\n",
       "\n",
       "Prior probabilities of groups:\n",
       "     Down        Up \n",
       "0.4477157 0.5522843 \n",
       "\n",
       "Group means:\n",
       "            Lag2       Lag3    Lag1:Lag3 Volume.Lag2:Volume.Lag3\n",
       "Down -0.03568254 0.17080045 -0.006554329                3.225198\n",
       "Up    0.26036581 0.08404044  0.687742739                2.621278\n",
       "     Volume.Lag2:Lag5\n",
       "Down       -0.4049084\n",
       "Up         -0.1628602\n",
       "\n",
       "Coefficients of linear discriminants:\n",
       "                                LD1\n",
       "Lag2                     0.27362634\n",
       "Lag3                    -0.09023887\n",
       "Lag1:Lag3                0.07376334\n",
       "Volume.Lag2:Volume.Lag3 -0.06317386\n",
       "Volume.Lag2:Lag5         0.03905750"
      ]
     },
     "metadata": {},
     "output_type": "display_data"
    },
    {
     "data": {
      "text/html": [
       "'Prior, unconditioned probability of Down: 0.447715736040609'"
      ],
      "text/latex": [
       "'Prior, unconditioned probability of Down: 0.447715736040609'"
      ],
      "text/markdown": [
       "'Prior, unconditioned probability of Down: 0.447715736040609'"
      ],
      "text/plain": [
       "[1] \"Prior, unconditioned probability of Down: 0.447715736040609\""
      ]
     },
     "metadata": {},
     "output_type": "display_data"
    },
    {
     "data": {
      "text/html": [
       "'Prior, unconditioned probability of Up: 0.552284263959391'"
      ],
      "text/latex": [
       "'Prior, unconditioned probability of Up: 0.552284263959391'"
      ],
      "text/markdown": [
       "'Prior, unconditioned probability of Up: 0.552284263959391'"
      ],
      "text/plain": [
       "[1] \"Prior, unconditioned probability of Up: 0.552284263959391\""
      ]
     },
     "metadata": {},
     "output_type": "display_data"
    },
    {
     "data": {
      "text/plain": [
       "      Preds\n",
       "Actual Down Up\n",
       "  Down   26 17\n",
       "  Up     22 39"
      ]
     },
     "metadata": {},
     "output_type": "display_data"
    },
    {
     "data": {
      "text/html": [
       "<span style=white-space:pre-wrap>'Testing - Correct Classification Rate:  0.625'</span>"
      ],
      "text/latex": [
       "'Testing - Correct Classification Rate:  0.625'"
      ],
      "text/markdown": [
       "<span style=white-space:pre-wrap>'Testing - Correct Classification Rate:  0.625'</span>"
      ],
      "text/plain": [
       "[1] \"Testing - Correct Classification Rate:  0.625\""
      ]
     },
     "metadata": {},
     "output_type": "display_data"
    },
    {
     "data": {
      "text/html": [
       "<span style=white-space:pre-wrap>'Testing - Misclassification Rate:  0.375'</span>"
      ],
      "text/latex": [
       "'Testing - Misclassification Rate:  0.375'"
      ],
      "text/markdown": [
       "<span style=white-space:pre-wrap>'Testing - Misclassification Rate:  0.375'</span>"
      ],
      "text/plain": [
       "[1] \"Testing - Misclassification Rate:  0.375\""
      ]
     },
     "metadata": {},
     "output_type": "display_data"
    },
    {
     "data": {
      "text/html": [
       "<span style=white-space:pre-wrap>'Testing - Specificity:  0.604651162790698'</span>"
      ],
      "text/latex": [
       "'Testing - Specificity:  0.604651162790698'"
      ],
      "text/markdown": [
       "<span style=white-space:pre-wrap>'Testing - Specificity:  0.604651162790698'</span>"
      ],
      "text/plain": [
       "[1] \"Testing - Specificity:  0.604651162790698\""
      ]
     },
     "metadata": {},
     "output_type": "display_data"
    },
    {
     "data": {
      "text/html": [
       "<span style=white-space:pre-wrap>'Testing - Sensitvity:  0.639344262295082'</span>"
      ],
      "text/latex": [
       "'Testing - Sensitvity:  0.639344262295082'"
      ],
      "text/markdown": [
       "<span style=white-space:pre-wrap>'Testing - Sensitvity:  0.639344262295082'</span>"
      ],
      "text/plain": [
       "[1] \"Testing - Sensitvity:  0.639344262295082\""
      ]
     },
     "metadata": {},
     "output_type": "display_data"
    },
    {
     "data": {
      "text/html": [
       "<span style=white-space:pre-wrap>'Testing - Positive Predictive Value:  0.696428571428571'</span>"
      ],
      "text/latex": [
       "'Testing - Positive Predictive Value:  0.696428571428571'"
      ],
      "text/markdown": [
       "<span style=white-space:pre-wrap>'Testing - Positive Predictive Value:  0.696428571428571'</span>"
      ],
      "text/plain": [
       "[1] \"Testing - Positive Predictive Value:  0.696428571428571\""
      ]
     },
     "metadata": {},
     "output_type": "display_data"
    },
    {
     "data": {
      "text/html": [
       "<span style=white-space:pre-wrap>'Testing - Negative Predictive Value:  0.541666666666667'</span>"
      ],
      "text/latex": [
       "'Testing - Negative Predictive Value:  0.541666666666667'"
      ],
      "text/markdown": [
       "<span style=white-space:pre-wrap>'Testing - Negative Predictive Value:  0.541666666666667'</span>"
      ],
      "text/plain": [
       "[1] \"Testing - Negative Predictive Value:  0.541666666666667\""
      ]
     },
     "metadata": {},
     "output_type": "display_data"
    },
    {
     "data": {
      "image/png": "[encoded data removed]",
      "text/plain": [
       "plot without title"
      ]
     },
     "metadata": {},
     "output_type": "display_data"
    }
   ],
   "source": [
    "#################################################################################################\n",
    "# Appendix: Linear Discriminant Analysis - Using hold-out validation set and various predictors\n",
    "#################################################################################################\n",
    "## Fit model\n",
    "lda.model <- lda(Direction ∼ Lag1:Lag3 + Lag2 + Lag3 +\n",
    "                 Volume.Lag2:Volume.Lag3 + Volume.Lag2:Lag5, data=train.data)\n",
    "\n",
    "## Summary\n",
    "(lda.model)\n",
    "\n",
    "## Plot\n",
    "plot(lda.model)\n",
    "\n",
    "paste(\"Prior, unconditioned probability of Down:\", lda.model$prior[1])\n",
    "paste(\"Prior, unconditioned probability of Up:\", lda.model$prior[2])\n",
    "\n",
    "## Prediction\n",
    "lda.predictions <- predict(lda.model, test.data)\n",
    "\n",
    "# Testing Confusion matrix\n",
    "# Confusion matrix\n",
    "(test.table <- table(\"Actual\"=test.data$Direction, \"Preds\"=lda.predictions$class))\n",
    "\n",
    "# Classificaiton metrics\n",
    "paste(\"Testing - Correct Classification Rate: \", (test.table[1,1]+test.table[2,2])/(nrow(test.data)))\n",
    "paste(\"Testing - Misclassification Rate: \", 1-(test.table[1,1]+test.table[2,2])/(nrow(test.data)))\n",
    "paste(\"Testing - Specificity: \", (test.table[1,1])/(test.table[1,1]+test.table[1,2]))\n",
    "paste(\"Testing - Sensitvity: \", (test.table[2,2])/(test.table[2,2]+test.table[2,1]))\n",
    "paste(\"Testing - Positive Predictive Value: \", (test.table[2,2])/(test.table[1,2]+test.table[2,2]))\n",
    "paste(\"Testing - Negative Predictive Value: \", (test.table[1,1])/(test.table[1,1]+test.table[2,1]))"
   ]
  },
  {
   "cell_type": "code",
   "execution_count": 196,
   "metadata": {},
   "outputs": [
    {
     "data": {
      "text/plain": [
       "Call:\n",
       "qda(Direction ~ Lag2 + Lag1:Lag3 + Lag1:Lag5 + Sequence * Volume + \n",
       "    diff.lag1.lag2 + diff.lag1.lag3, data = train.data)\n",
       "\n",
       "Prior probabilities of groups:\n",
       "     Down        Up \n",
       "0.4477157 0.5522843 \n",
       "\n",
       "Group means:\n",
       "            Lag2 Sequence   Volume diff.lag1.lag2 diff.lag1.lag3    Lag1:Lag3\n",
       "Down -0.03568254 505.1111 1.266240       0.325127     0.11864399 -0.006554329\n",
       "Up    0.26036581 483.1820 1.151442      -0.269579    -0.09325368  0.687742739\n",
       "      Lag1:Lag5 Sequence:Volume\n",
       "Down  0.3615693        950.5974\n",
       "Up   -0.1833118        836.3069"
      ]
     },
     "metadata": {},
     "output_type": "display_data"
    },
    {
     "data": {
      "text/html": [
       "'Prior, unconditioned probability of Down: 0.447715736040609'"
      ],
      "text/latex": [
       "'Prior, unconditioned probability of Down: 0.447715736040609'"
      ],
      "text/markdown": [
       "'Prior, unconditioned probability of Down: 0.447715736040609'"
      ],
      "text/plain": [
       "[1] \"Prior, unconditioned probability of Down: 0.447715736040609\""
      ]
     },
     "metadata": {},
     "output_type": "display_data"
    },
    {
     "data": {
      "text/html": [
       "'Prior, unconditioned probability of Up: 0.552284263959391'"
      ],
      "text/latex": [
       "'Prior, unconditioned probability of Up: 0.552284263959391'"
      ],
      "text/markdown": [
       "'Prior, unconditioned probability of Up: 0.552284263959391'"
      ],
      "text/plain": [
       "[1] \"Prior, unconditioned probability of Up: 0.552284263959391\""
      ]
     },
     "metadata": {},
     "output_type": "display_data"
    },
    {
     "data": {
      "text/plain": [
       "      Preds\n",
       "Actual Down  Up\n",
       "  Down   69 372\n",
       "  Up     61 483"
      ]
     },
     "metadata": {},
     "output_type": "display_data"
    },
    {
     "data": {
      "text/plain": [
       "      Preds\n",
       "Actual Down Up\n",
       "  Down   29 14\n",
       "  Up     26 35"
      ]
     },
     "metadata": {},
     "output_type": "display_data"
    },
    {
     "data": {
      "text/html": [
       "<span style=white-space:pre-wrap>'Testing - Correct Classification Rate:  0.615384615384615'</span>"
      ],
      "text/latex": [
       "'Testing - Correct Classification Rate:  0.615384615384615'"
      ],
      "text/markdown": [
       "<span style=white-space:pre-wrap>'Testing - Correct Classification Rate:  0.615384615384615'</span>"
      ],
      "text/plain": [
       "[1] \"Testing - Correct Classification Rate:  0.615384615384615\""
      ]
     },
     "metadata": {},
     "output_type": "display_data"
    },
    {
     "data": {
      "text/html": [
       "<span style=white-space:pre-wrap>'Testing - Misclassification Rate:  0.384615384615385'</span>"
      ],
      "text/latex": [
       "'Testing - Misclassification Rate:  0.384615384615385'"
      ],
      "text/markdown": [
       "<span style=white-space:pre-wrap>'Testing - Misclassification Rate:  0.384615384615385'</span>"
      ],
      "text/plain": [
       "[1] \"Testing - Misclassification Rate:  0.384615384615385\""
      ]
     },
     "metadata": {},
     "output_type": "display_data"
    },
    {
     "data": {
      "text/html": [
       "<span style=white-space:pre-wrap>'Testing - Specificity:  0.674418604651163'</span>"
      ],
      "text/latex": [
       "'Testing - Specificity:  0.674418604651163'"
      ],
      "text/markdown": [
       "<span style=white-space:pre-wrap>'Testing - Specificity:  0.674418604651163'</span>"
      ],
      "text/plain": [
       "[1] \"Testing - Specificity:  0.674418604651163\""
      ]
     },
     "metadata": {},
     "output_type": "display_data"
    },
    {
     "data": {
      "text/html": [
       "<span style=white-space:pre-wrap>'Testing - Sensitvity:  0.573770491803279'</span>"
      ],
      "text/latex": [
       "'Testing - Sensitvity:  0.573770491803279'"
      ],
      "text/markdown": [
       "<span style=white-space:pre-wrap>'Testing - Sensitvity:  0.573770491803279'</span>"
      ],
      "text/plain": [
       "[1] \"Testing - Sensitvity:  0.573770491803279\""
      ]
     },
     "metadata": {},
     "output_type": "display_data"
    },
    {
     "data": {
      "text/html": [
       "<span style=white-space:pre-wrap>'Testing - Positive Predictive Value:  0.714285714285714'</span>"
      ],
      "text/latex": [
       "'Testing - Positive Predictive Value:  0.714285714285714'"
      ],
      "text/markdown": [
       "<span style=white-space:pre-wrap>'Testing - Positive Predictive Value:  0.714285714285714'</span>"
      ],
      "text/plain": [
       "[1] \"Testing - Positive Predictive Value:  0.714285714285714\""
      ]
     },
     "metadata": {},
     "output_type": "display_data"
    },
    {
     "data": {
      "text/html": [
       "<span style=white-space:pre-wrap>'Testing - Negative Predictive Value:  0.527272727272727'</span>"
      ],
      "text/latex": [
       "'Testing - Negative Predictive Value:  0.527272727272727'"
      ],
      "text/markdown": [
       "<span style=white-space:pre-wrap>'Testing - Negative Predictive Value:  0.527272727272727'</span>"
      ],
      "text/plain": [
       "[1] \"Testing - Negative Predictive Value:  0.527272727272727\""
      ]
     },
     "metadata": {},
     "output_type": "display_data"
    }
   ],
   "source": [
    "#################################################################################################\n",
    "# Appendix: Quadratic Discriminant Analysis - Using hold-out validation set and various predictors\n",
    "#################################################################################################\n",
    "## Fit model\n",
    "qda.model <- qda(Direction ~ Lag2 + Lag1:Lag3 + Lag1:Lag5 +\n",
    "                 Sequence*Volume + diff.lag1.lag2 + diff.lag1.lag3, data=train.data)\n",
    "\n",
    "## Summary\n",
    "(qda.model)\n",
    "\n",
    "paste(\"Prior, unconditioned probability of Down:\", qda.model$prior[1])\n",
    "paste(\"Prior, unconditioned probability of Up:\", qda.model$prior[2])\n",
    "\n",
    "## Training Fit\n",
    "lda.prediction <- predict(qda.model, train.data)\n",
    "\n",
    "# Training Confusion matrix\n",
    "table(\"Actual\"=train.data$Direction, \"Preds\"=lda.prediction$class)\n",
    "\n",
    "## Test Prediction\n",
    "lda.prediction <- predict(qda.model, test.data)\n",
    "\n",
    "# Testing Confusion matrix\n",
    "(test.table <- table(\"Actual\"=test.data$Direction, \"Preds\"=lda.prediction$class))\n",
    "\n",
    "# Classificaiton metrics\n",
    "paste(\"Testing - Correct Classification Rate: \", (test.table[1,1]+test.table[2,2])/(nrow(test.data)))\n",
    "paste(\"Testing - Misclassification Rate: \", 1-(test.table[1,1]+test.table[2,2])/(nrow(test.data)))\n",
    "paste(\"Testing - Specificity: \", (test.table[1,1])/(test.table[1,1]+test.table[1,2]))\n",
    "paste(\"Testing - Sensitvity: \", (test.table[2,2])/(test.table[2,2]+test.table[2,1]))\n",
    "paste(\"Testing - Positive Predictive Value: \", (test.table[2,2])/(test.table[1,2]+test.table[2,2]))\n",
    "paste(\"Testing - Negative Predictive Value: \", (test.table[1,1])/(test.table[1,1]+test.table[2,1]))"
   ]
  },
  {
   "cell_type": "code",
   "execution_count": 315,
   "metadata": {},
   "outputs": [
    {
     "data": {
      "text/plain": [
       "      Preds\n",
       "Actual Down Up\n",
       "  Down   30 13\n",
       "  Up     23 38"
      ]
     },
     "metadata": {},
     "output_type": "display_data"
    },
    {
     "data": {
      "text/html": [
       "<span style=white-space:pre-wrap>'Testing - Correct Classification Rate:  0.653846153846154'</span>"
      ],
      "text/latex": [
       "'Testing - Correct Classification Rate:  0.653846153846154'"
      ],
      "text/markdown": [
       "<span style=white-space:pre-wrap>'Testing - Correct Classification Rate:  0.653846153846154'</span>"
      ],
      "text/plain": [
       "[1] \"Testing - Correct Classification Rate:  0.653846153846154\""
      ]
     },
     "metadata": {},
     "output_type": "display_data"
    },
    {
     "data": {
      "text/html": [
       "<span style=white-space:pre-wrap>'Testing - Misclassification Rate:  0.346153846153846'</span>"
      ],
      "text/latex": [
       "'Testing - Misclassification Rate:  0.346153846153846'"
      ],
      "text/markdown": [
       "<span style=white-space:pre-wrap>'Testing - Misclassification Rate:  0.346153846153846'</span>"
      ],
      "text/plain": [
       "[1] \"Testing - Misclassification Rate:  0.346153846153846\""
      ]
     },
     "metadata": {},
     "output_type": "display_data"
    },
    {
     "data": {
      "text/html": [
       "<span style=white-space:pre-wrap>'Testing - Specificity:  0.697674418604651'</span>"
      ],
      "text/latex": [
       "'Testing - Specificity:  0.697674418604651'"
      ],
      "text/markdown": [
       "<span style=white-space:pre-wrap>'Testing - Specificity:  0.697674418604651'</span>"
      ],
      "text/plain": [
       "[1] \"Testing - Specificity:  0.697674418604651\""
      ]
     },
     "metadata": {},
     "output_type": "display_data"
    },
    {
     "data": {
      "text/html": [
       "<span style=white-space:pre-wrap>'Testing - Sensitvity:  0.622950819672131'</span>"
      ],
      "text/latex": [
       "'Testing - Sensitvity:  0.622950819672131'"
      ],
      "text/markdown": [
       "<span style=white-space:pre-wrap>'Testing - Sensitvity:  0.622950819672131'</span>"
      ],
      "text/plain": [
       "[1] \"Testing - Sensitvity:  0.622950819672131\""
      ]
     },
     "metadata": {},
     "output_type": "display_data"
    },
    {
     "data": {
      "text/html": [
       "<span style=white-space:pre-wrap>'Testing - Positive Predictive Value:  0.745098039215686'</span>"
      ],
      "text/latex": [
       "'Testing - Positive Predictive Value:  0.745098039215686'"
      ],
      "text/markdown": [
       "<span style=white-space:pre-wrap>'Testing - Positive Predictive Value:  0.745098039215686'</span>"
      ],
      "text/plain": [
       "[1] \"Testing - Positive Predictive Value:  0.745098039215686\""
      ]
     },
     "metadata": {},
     "output_type": "display_data"
    },
    {
     "data": {
      "text/html": [
       "<span style=white-space:pre-wrap>'Testing - Negative Predictive Value:  0.566037735849057'</span>"
      ],
      "text/latex": [
       "'Testing - Negative Predictive Value:  0.566037735849057'"
      ],
      "text/markdown": [
       "<span style=white-space:pre-wrap>'Testing - Negative Predictive Value:  0.566037735849057'</span>"
      ],
      "text/plain": [
       "[1] \"Testing - Negative Predictive Value:  0.566037735849057\""
      ]
     },
     "metadata": {},
     "output_type": "display_data"
    }
   ],
   "source": [
    "#################################################################################################\n",
    "# Appendix: k-Nearest Neighbors Classification - Using hold-out validation set and various predictors\n",
    "#################################################################################################\n",
    "## Fit model\n",
    "knn.predictors <- c('diff.lag1.lag2', 'diff.lag1.lag4', 'Volume.Lag5',\n",
    "                    'sq.diff.lag1.lag5', 'Volume.Lag4')\n",
    "train.X <- (as.data.frame(train.data[knn.predictors]))\n",
    "test.X <- as.data.frame(test.data[knn.predictors])\n",
    "train.Direction <- (train.data$Direction)\n",
    "\n",
    "knn.model <- knn(train=train.X,test=test.X,cl=train.Direction,k=1)\n",
    "\n",
    "# Testing Confusion matrix\n",
    "(test.table <- table(\"Actual\"=test.data$Direction, \"Preds\"=knn.model))\n",
    "\n",
    "# Classificaiton metrics\n",
    "paste(\"Testing - Correct Classification Rate: \", (test.table[1,1]+test.table[2,2])/(nrow(test.data)))\n",
    "paste(\"Testing - Misclassification Rate: \", 1-(test.table[1,1]+test.table[2,2])/(nrow(test.data)))\n",
    "paste(\"Testing - Specificity: \", (test.table[1,1])/(test.table[1,1]+test.table[1,2]))\n",
    "paste(\"Testing - Sensitvity: \", (test.table[2,2])/(test.table[2,2]+test.table[2,1]))\n",
    "paste(\"Testing - Positive Predictive Value: \", (test.table[2,2])/(test.table[1,2]+test.table[2,2]))\n",
    "paste(\"Testing - Negative Predictive Value: \", (test.table[1,1])/(test.table[1,1]+test.table[2,1]))"
   ]
  }
 ],
 "metadata": {
  "kernelspec": {
   "display_name": "R",
   "language": "R",
   "name": "ir"
  },
  "language_info": {
   "codemirror_mode": "r",
   "file_extension": ".r",
   "mimetype": "text/x-r-source",
   "name": "R",
   "pygments_lexer": "r",
   "version": "3.5.1"
  }
 },
 "nbformat": 4,
 "nbformat_minor": 2
}
